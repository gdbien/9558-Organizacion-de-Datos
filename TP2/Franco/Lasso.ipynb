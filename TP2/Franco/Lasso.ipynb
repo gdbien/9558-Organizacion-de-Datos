{
 "cells": [
  {
   "cell_type": "code",
   "execution_count": 2,
   "metadata": {},
   "outputs": [],
   "source": [
    "from sklearn.linear_model import Lasso\n",
    "from sklearn.metrics import mean_squared_error\n",
    "import pandas as pd\n",
    "import numpy as np\n",
    "from sklearn.preprocessing import StandardScaler\n"
   ]
  },
  {
   "cell_type": "code",
   "execution_count": 3,
   "metadata": {},
   "outputs": [],
   "source": [
    "#Cargo los sets\n",
    "X_train = pd.read_csv('data/X_train_ohc.csv', dtype={'id':'int',\\\n",
    "                                           'tipodepropiedad':'category',\\\n",
    "                                           'ciudad':'category', 'provincia':'category',\\\n",
    "                                           'antiguedad':'float', 'habitaciones':'float',\\\n",
    "                                           'garages':'float','banos':'float',\\\n",
    "                                           'metroscubiertos':'float', 'metrostotales':'float',\\\n",
    "                                           'idzona':'float',\\\n",
    "                                           'gimnasio':'bool', 'usosmultiples':'bool',\\\n",
    "                                           'piscina':'bool', 'escuelascercanas':'bool',\\\n",
    "                                           'centroscomercialescercanos':'bool'\\\n",
    "                                           }, index_col='id')\n",
    "y_train = pd.read_csv('data/y_train.csv',header=None,squeeze=True,index_col=0)\n",
    "X_test = pd.read_csv('data/X_test_ohc.csv', dtype={'id':'int',\\\n",
    "                                           'tipodepropiedad':'category',\\\n",
    "                                           'ciudad':'category', 'provincia':'category',\\\n",
    "                                           'antiguedad':'float', 'habitaciones':'float',\\\n",
    "                                           'garages':'float','banos':'float',\\\n",
    "                                           'metroscubiertos':'float', 'metrostotales':'float',\\\n",
    "                                           'idzona':'float',\\\n",
    "                                           'gimnasio':'bool', 'usosmultiples':'bool',\\\n",
    "                                           'piscina':'bool', 'escuelascercanas':'bool',\\\n",
    "                                           'centroscomercialescercanos':'bool'\\\n",
    "                                           }, index_col='id')\n",
    "y_test = pd.read_csv('data/y_test.csv',header=None,squeeze=True,index_col=0)"
   ]
  },
  {
   "cell_type": "code",
   "execution_count": 4,
   "metadata": {},
   "outputs": [
    {
     "data": {
      "text/plain": [
       "['metroscubiertos',\n",
       " 'metrostotales',\n",
       " 'banos',\n",
       " 'provincia__Distrito Federal',\n",
       " 'idzona']"
      ]
     },
     "execution_count": 4,
     "metadata": {},
     "output_type": "execute_result"
    }
   ],
   "source": [
    "features_n = pd.read_csv('data/features_importancia_primera_etapa.csv',index_col=0)\\\n",
    "             .head(70).index.tolist()\n",
    "features_n[0:5]"
   ]
  },
  {
   "cell_type": "code",
   "execution_count": 5,
   "metadata": {},
   "outputs": [],
   "source": [
    "X_train_n = X_train[features_n]\n",
    "X_test_n = X_test[features_n]"
   ]
  },
  {
   "cell_type": "code",
   "execution_count": 6,
   "metadata": {},
   "outputs": [
    {
     "data": {
      "text/plain": [
       "70"
      ]
     },
     "execution_count": 6,
     "metadata": {},
     "output_type": "execute_result"
    }
   ],
   "source": [
    "features_numericos = X_train_n.dtypes[X_train.dtypes != \"object\"].index\n",
    "len(features_numericos)\n",
    "#son todas numericas obviamente"
   ]
  },
  {
   "cell_type": "code",
   "execution_count": 7,
   "metadata": {},
   "outputs": [
    {
     "name": "stderr",
     "output_type": "stream",
     "text": [
      "/home/franco/anaconda3/lib/python3.7/site-packages/sklearn/preprocessing/data.py:625: DataConversionWarning: Data with input dtype bool, int64, float64 were all converted to float64 by StandardScaler.\n",
      "  return self.partial_fit(X, y)\n",
      "/home/franco/anaconda3/lib/python3.7/site-packages/sklearn/base.py:462: DataConversionWarning: Data with input dtype bool, int64, float64 were all converted to float64 by StandardScaler.\n",
      "  return self.fit(X, **fit_params).transform(X)\n",
      "/home/franco/anaconda3/lib/python3.7/site-packages/ipykernel_launcher.py:5: SettingWithCopyWarning: \n",
      "A value is trying to be set on a copy of a slice from a DataFrame.\n",
      "Try using .loc[row_indexer,col_indexer] = value instead\n",
      "\n",
      "See the caveats in the documentation: http://pandas.pydata.org/pandas-docs/stable/indexing.html#indexing-view-versus-copy\n",
      "  \"\"\"\n",
      "/home/franco/anaconda3/lib/python3.7/site-packages/sklearn/preprocessing/data.py:625: DataConversionWarning: Data with input dtype bool, int64, float64 were all converted to float64 by StandardScaler.\n",
      "  return self.partial_fit(X, y)\n",
      "/home/franco/anaconda3/lib/python3.7/site-packages/sklearn/base.py:462: DataConversionWarning: Data with input dtype bool, int64, float64 were all converted to float64 by StandardScaler.\n",
      "  return self.fit(X, **fit_params).transform(X)\n",
      "/home/franco/anaconda3/lib/python3.7/site-packages/ipykernel_launcher.py:9: SettingWithCopyWarning: \n",
      "A value is trying to be set on a copy of a slice from a DataFrame.\n",
      "Try using .loc[row_indexer,col_indexer] = value instead\n",
      "\n",
      "See the caveats in the documentation: http://pandas.pydata.org/pandas-docs/stable/indexing.html#indexing-view-versus-copy\n",
      "  if __name__ == '__main__':\n"
     ]
    }
   ],
   "source": [
    "scaler = StandardScaler()\n",
    "\n",
    "scaled = scaler.fit_transform(X_train_n[features_numericos])\n",
    "for i, col in enumerate(features_numericos):\n",
    "    X_train_n[col] = scaled[:, i]\n",
    "\n",
    "scaled = scaler.fit_transform(X_test_n[features_numericos])\n",
    "for i, col in enumerate(features_numericos):\n",
    "    X_test_n[col] = scaled[:, i]"
   ]
  },
  {
   "cell_type": "code",
   "execution_count": 35,
   "metadata": {},
   "outputs": [],
   "source": [
    "def RMSE(actual, pred):\n",
    "    return np.sqrt(mean_squared_error(actual, pred))"
   ]
  },
  {
   "cell_type": "code",
   "execution_count": 36,
   "metadata": {},
   "outputs": [],
   "source": [
    "y_train_log = np.log1p(y_train)\n",
    "y_test_log = np.log1p(y_test)"
   ]
  },
  {
   "cell_type": "code",
   "execution_count": 37,
   "metadata": {},
   "outputs": [
    {
     "name": "stdout",
     "output_type": "stream",
     "text": [
      "CPU times: user 3.84 s, sys: 123 ms, total: 3.97 s\n",
      "Wall time: 1 s\n"
     ]
    },
    {
     "data": {
      "text/plain": [
       "Lasso(alpha=0.00099, copy_X=True, fit_intercept=True, max_iter=50000,\n",
       "   normalize=False, positive=False, precompute=False, random_state=None,\n",
       "   selection='cyclic', tol=0.0001, warm_start=False)"
      ]
     },
     "execution_count": 37,
     "metadata": {},
     "output_type": "execute_result"
    }
   ],
   "source": [
    "best_alpha = 0.00099\n",
    "\n",
    "regr = Lasso(alpha=best_alpha, max_iter=50000)\n",
    "%time regr.fit(X_train_n, y_train_log)"
   ]
  },
  {
   "cell_type": "code",
   "execution_count": 38,
   "metadata": {},
   "outputs": [],
   "source": [
    "y_train_pred = regr.predict(X_train_n)\n",
    "y_test_pred = regr.predict(X_test_n)"
   ]
  },
  {
   "cell_type": "code",
   "execution_count": 39,
   "metadata": {},
   "outputs": [
    {
     "name": "stdout",
     "output_type": "stream",
     "text": [
      "RMSE Train: 0.4312768246257255\n",
      "RMSE Test: 0.43007780966372344\n"
     ]
    }
   ],
   "source": [
    "print(\"RMSE Train:\",RMSE(y_train_pred,y_train_log))\n",
    "print(\"RMSE Test:\",RMSE(y_test_pred,y_test_log))"
   ]
  },
  {
   "cell_type": "code",
   "execution_count": 40,
   "metadata": {},
   "outputs": [],
   "source": [
    "serie_pred = pd.Series(data=y_test_pred, index= y_test.index, name='target').reset_index()"
   ]
  },
  {
   "cell_type": "raw",
   "metadata": {},
   "source": [
    "serie_pred.to_csv('data/lasso_test_pred.csv',index=False)"
   ]
  }
 ],
 "metadata": {
  "kernelspec": {
   "display_name": "Python 3",
   "language": "python",
   "name": "python3"
  },
  "language_info": {
   "codemirror_mode": {
    "name": "ipython",
    "version": 3
   },
   "file_extension": ".py",
   "mimetype": "text/x-python",
   "name": "python",
   "nbconvert_exporter": "python",
   "pygments_lexer": "ipython3",
   "version": "3.7.1"
  }
 },
 "nbformat": 4,
 "nbformat_minor": 2
}
