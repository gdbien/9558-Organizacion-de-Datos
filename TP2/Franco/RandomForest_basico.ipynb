{
 "cells": [
  {
   "cell_type": "code",
   "execution_count": 1,
   "metadata": {},
   "outputs": [],
   "source": [
    "from sklearn.ensemble import RandomForestRegressor\n",
    "from sklearn.metrics import mean_squared_error\n",
    "import pandas as pd\n",
    "import numpy as np"
   ]
  },
  {
   "cell_type": "code",
   "execution_count": 2,
   "metadata": {},
   "outputs": [],
   "source": [
    "#Cargo los sets\n",
    "X_train = pd.read_csv('data/X_train_ohc.csv', dtype={'id':'int',\\\n",
    "                                           'tipodepropiedad':'category',\\\n",
    "                                           'ciudad':'category', 'provincia':'category',\\\n",
    "                                           'antiguedad':'float', 'habitaciones':'float',\\\n",
    "                                           'garages':'float','banos':'float',\\\n",
    "                                           'metroscubiertos':'float', 'metrostotales':'float',\\\n",
    "                                           'idzona':'float',\\\n",
    "                                           'gimnasio':'bool', 'usosmultiples':'bool',\\\n",
    "                                           'piscina':'bool', 'escuelascercanas':'bool',\\\n",
    "                                           'centroscomercialescercanos':'bool'\\\n",
    "                                           }, index_col='id')\n",
    "y_train = pd.read_csv('data/y_train.csv',header=None,squeeze=True,index_col=0)\n",
    "X_test = pd.read_csv('data/X_test_ohc.csv', dtype={'id':'int',\\\n",
    "                                           'tipodepropiedad':'category',\\\n",
    "                                           'ciudad':'category', 'provincia':'category',\\\n",
    "                                           'antiguedad':'float', 'habitaciones':'float',\\\n",
    "                                           'garages':'float','banos':'float',\\\n",
    "                                           'metroscubiertos':'float', 'metrostotales':'float',\\\n",
    "                                           'idzona':'float',\\\n",
    "                                           'gimnasio':'bool', 'usosmultiples':'bool',\\\n",
    "                                           'piscina':'bool', 'escuelascercanas':'bool',\\\n",
    "                                           'centroscomercialescercanos':'bool'\\\n",
    "                                           }, index_col='id')\n",
    "y_test = pd.read_csv('data/y_test.csv',header=None,squeeze=True,index_col=0)"
   ]
  },
  {
   "cell_type": "code",
   "execution_count": 3,
   "metadata": {},
   "outputs": [],
   "source": [
    "X_submit = pd.read_csv('data/X_submit_ohc.csv', dtype={'id':'int',\\\n",
    "                                           'tipodepropiedad':'category',\\\n",
    "                                           'ciudad':'category', 'provincia':'category',\\\n",
    "                                           'antiguedad':'float', 'habitaciones':'float',\\\n",
    "                                           'garages':'float','banos':'float',\\\n",
    "                                           'metroscubiertos':'float', 'metrostotales':'float',\\\n",
    "                                           'idzona':'float',\\\n",
    "                                           'gimnasio':'bool', 'usosmultiples':'bool',\\\n",
    "                                           'piscina':'bool', 'escuelascercanas':'bool',\\\n",
    "                                           'centroscomercialescercanos':'bool'\\\n",
    "                                           }, index_col='id')"
   ]
  },
  {
   "cell_type": "code",
   "execution_count": 4,
   "metadata": {},
   "outputs": [],
   "source": [
    "randomForest = RandomForestRegressor(n_estimators=1200, n_jobs= 5, oob_score=True, min_samples_leaf=2, max_features= 0.5)"
   ]
  },
  {
   "cell_type": "code",
   "execution_count": 5,
   "metadata": {},
   "outputs": [],
   "source": [
    "def RMSE(actual, pred):\n",
    "    return np.sqrt(mean_squared_error(actual, pred))"
   ]
  },
  {
   "cell_type": "code",
   "execution_count": 6,
   "metadata": {},
   "outputs": [],
   "source": [
    "y_train_log = np.log1p(y_train)\n",
    "y_test_log = np.log1p(y_test)"
   ]
  },
  {
   "cell_type": "code",
   "execution_count": 7,
   "metadata": {},
   "outputs": [],
   "source": [
    "def print_score(r,train_set,test_set,train_target,test_target,F):\n",
    "    res = [F(r.predict(train_set), train_target),\n",
    "           F(r.predict(test_set), test_target),\n",
    "           r.score(train_set, train_target), r.score(test_set, test_target)]\n",
    "    if hasattr(r, 'oob_score_'): res.append(r.oob_score_)\n",
    "    print(res)"
   ]
  },
  {
   "cell_type": "code",
   "execution_count": 11,
   "metadata": {},
   "outputs": [],
   "source": [
    "#Dado que los precios estan acumulados en la izquierda, voy a predecir el logaritmo\n",
    "#de estos, ya que se parecen a una normal, siendo los datos mas uniformes"
   ]
  },
  {
   "cell_type": "raw",
   "metadata": {},
   "source": [
    "%time randomForest.fit(X_train, y_train_log)"
   ]
  },
  {
   "cell_type": "raw",
   "metadata": {},
   "source": [
    "%time print_score(randomForest,X_train,X_test,y_train_log,y_test_log,RMSE)"
   ]
  },
  {
   "cell_type": "code",
   "execution_count": null,
   "metadata": {},
   "outputs": [],
   "source": [
    "features_importancia = pd.DataFrame(randomForest.feature_importances_,\\\n",
    "                                      index = X_train.columns,\\\n",
    "                                      columns=['importancia']).sort_values('importancia', ascending=False)\\\n",
    "                                      \n",
    "\n",
    "features_importancia = features_importancia[features_importancia['importancia']>0]\n",
    "features_importancia.head(50)"
   ]
  },
  {
   "cell_type": "code",
   "execution_count": null,
   "metadata": {},
   "outputs": [],
   "source": [
    "features_importancia.to_csv('data/features_importancia_primera_etapa.csv')"
   ]
  },
  {
   "cell_type": "code",
   "execution_count": 9,
   "metadata": {},
   "outputs": [],
   "source": [
    "#Se puede notar una pequeña mejora en las predicciones si se predice el log"
   ]
  },
  {
   "cell_type": "code",
   "execution_count": 10,
   "metadata": {},
   "outputs": [],
   "source": [
    "#Para despues hacer el submit en su momento hago np.exp(xgb_pred)"
   ]
  },
  {
   "cell_type": "markdown",
   "metadata": {},
   "source": [
    "Voy a probar hacerlo con los primeros 50 features mas importantes"
   ]
  },
  {
   "cell_type": "code",
   "execution_count": 8,
   "metadata": {},
   "outputs": [
    {
     "data": {
      "text/plain": [
       "['metroscubiertos',\n",
       " 'metrostotales',\n",
       " 'banos',\n",
       " 'provincia__Distrito Federal',\n",
       " 'idzona',\n",
       " 'tipodepropiedad__Apartamento',\n",
       " 'garages',\n",
       " 'año',\n",
       " 'antiguedad',\n",
       " 'dia',\n",
       " 'ciudad__Huixquilucan',\n",
       " 'habitaciones',\n",
       " 'mes',\n",
       " 'ciudad__San Pedro Garza García',\n",
       " 'tipodepropiedad__Terreno',\n",
       " 'tipodepropiedad__Casa',\n",
       " 'ciudad__Miguel Hidalgo',\n",
       " 'provincia__Edo. de México',\n",
       " 'ciudad__Naucalpan de Juárez',\n",
       " 'ciudad__Zapopan',\n",
       " 'ciudad__Benito Juárez',\n",
       " 'ciudad__Cuauhtémoc',\n",
       " 'centroscomercialescercanos',\n",
       " 'escuelascercanas',\n",
       " 'tipodepropiedad__Terreno comercial',\n",
       " 'gimnasio',\n",
       " 'tipodepropiedad__Casa en condominio',\n",
       " 'tipodepropiedad__Edificio',\n",
       " 'piscina',\n",
       " 'ciudad__San Andrés Cholula',\n",
       " 'provincia__Jalisco',\n",
       " 'provincia__Yucatán',\n",
       " 'provincia__Nuevo León',\n",
       " 'ciudad__Atizapán de Zaragoza',\n",
       " 'ciudad__Alvaro Obregón',\n",
       " 'usosmultiples',\n",
       " 'ciudad__Mérida',\n",
       " 'ciudad__Iztapalapa',\n",
       " 'ciudad__Monterrey',\n",
       " 'ciudad__Tlalpan',\n",
       " 'ciudad__Coyoacán',\n",
       " 'tipodepropiedad__Bodega comercial',\n",
       " 'ciudad__Guadalajara',\n",
       " 'tipodepropiedad__Oficina comercial',\n",
       " 'tipodepropiedad__Local Comercial',\n",
       " 'provincia__San luis Potosí',\n",
       " 'provincia__Puebla',\n",
       " 'ciudad__La Magdalena Contreras',\n",
       " 'ciudad__San Luis Potosí',\n",
       " 'ciudad__Tlalnepantla de Baz',\n",
       " 'ciudad__Cuajimalpa de Morelos',\n",
       " 'provincia__Querétaro',\n",
       " 'ciudad__Querétaro',\n",
       " 'ciudad__San Miguel de Allende',\n",
       " 'ciudad__Azcapotzalco',\n",
       " 'tipodepropiedad__Rancho',\n",
       " 'ciudad__Santa Catarina',\n",
       " 'ciudad__Gustavo A. Madero',\n",
       " 'provincia__Morelos',\n",
       " 'ciudad__Cuernavaca']"
      ]
     },
     "execution_count": 8,
     "metadata": {},
     "output_type": "execute_result"
    }
   ],
   "source": [
    "features_50 = pd.read_csv('data/features_importancia_primera_etapa.csv',index_col=0).head(60)\\\n",
    "            .index.tolist()\n",
    "features_50"
   ]
  },
  {
   "cell_type": "code",
   "execution_count": 9,
   "metadata": {},
   "outputs": [],
   "source": [
    "X_train_50 = X_train[features_50]\n",
    "X_test_50 = X_test[features_50]"
   ]
  },
  {
   "cell_type": "code",
   "execution_count": 10,
   "metadata": {},
   "outputs": [
    {
     "name": "stdout",
     "output_type": "stream",
     "text": [
      "CPU times: user 30min 6s, sys: 6.77 s, total: 30min 13s\n",
      "Wall time: 6min 42s\n"
     ]
    },
    {
     "data": {
      "text/plain": [
       "RandomForestRegressor(bootstrap=True, criterion='mse', max_depth=None,\n",
       "           max_features=0.5, max_leaf_nodes=None,\n",
       "           min_impurity_decrease=0.0, min_impurity_split=None,\n",
       "           min_samples_leaf=2, min_samples_split=2,\n",
       "           min_weight_fraction_leaf=0.0, n_estimators=1200, n_jobs=5,\n",
       "           oob_score=True, random_state=None, verbose=0, warm_start=False)"
      ]
     },
     "execution_count": 10,
     "metadata": {},
     "output_type": "execute_result"
    }
   ],
   "source": [
    "%time randomForest.fit(X_train_50, y_train_log)"
   ]
  },
  {
   "cell_type": "code",
   "execution_count": 11,
   "metadata": {},
   "outputs": [
    {
     "name": "stdout",
     "output_type": "stream",
     "text": [
      "[0.17115320612297644, 0.33277134082575277, 0.9581655313636898, 0.8431388446909546, 0.8425968968982562]\n",
      "CPU times: user 7min 44s, sys: 944 ms, total: 7min 44s\n",
      "Wall time: 1min 34s\n"
     ]
    }
   ],
   "source": [
    "%time print_score(randomForest,X_train_50,X_test_50,y_train_log,y_test_log,RMSE)"
   ]
  },
  {
   "cell_type": "code",
   "execution_count": 14,
   "metadata": {},
   "outputs": [],
   "source": [
    "y_test_pred = randomForest.predict(X_test_50)"
   ]
  },
  {
   "cell_type": "code",
   "execution_count": null,
   "metadata": {},
   "outputs": [],
   "source": [
    "serie_pred = pd.Series(data=y_test_pred, index= y_test.index, name='target' ).reset_index()"
   ]
  },
  {
   "cell_type": "code",
   "execution_count": null,
   "metadata": {},
   "outputs": [],
   "source": [
    "serie_pred.to_csv('data/rf_test_pred.csv',index=False)"
   ]
  },
  {
   "cell_type": "raw",
   "metadata": {},
   "source": [
    "#Primer submit\n",
    "serie_submit = pd.Series(data=np.exp(randomForest.predict(X_submit[features_50])),index=X_submit.index,name='target')"
   ]
  },
  {
   "cell_type": "raw",
   "metadata": {},
   "source": [
    "df_entrega = serie_submit.reset_index()\n",
    "df_entrega.head()"
   ]
  },
  {
   "cell_type": "raw",
   "metadata": {},
   "source": [
    "df_entrega.to_csv('data/submit.csv',index=False)"
   ]
  },
  {
   "cell_type": "raw",
   "metadata": {},
   "source": [
    "pd.read_csv('data/submit.csv')"
   ]
  },
  {
   "cell_type": "code",
   "execution_count": null,
   "metadata": {},
   "outputs": [],
   "source": [
    "#[0.17161489285239415, 0.3310967160138811, 0.9580282514296621, 0.8436874439242649, 0.8421187086795238]\n",
    "#el mejor score sin features del log del precio con 1200 estimadores y 60 features"
   ]
  },
  {
   "cell_type": "code",
   "execution_count": null,
   "metadata": {},
   "outputs": [],
   "source": []
  }
 ],
 "metadata": {
  "kernelspec": {
   "display_name": "Python 3",
   "language": "python",
   "name": "python3"
  },
  "language_info": {
   "codemirror_mode": {
    "name": "ipython",
    "version": 3
   },
   "file_extension": ".py",
   "mimetype": "text/x-python",
   "name": "python",
   "nbconvert_exporter": "python",
   "pygments_lexer": "ipython3",
   "version": "3.7.3"
  }
 },
 "nbformat": 4,
 "nbformat_minor": 2
}
