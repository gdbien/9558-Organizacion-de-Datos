{
 "cells": [
  {
   "cell_type": "code",
   "execution_count": 1,
   "metadata": {},
   "outputs": [],
   "source": [
    "from lightgbm import LGBMRegressor\n",
    "import types\n",
    "from sklearn.metrics import mean_squared_error\n",
    "from sklearn.model_selection import GridSearchCV\n",
    "import numpy as np\n",
    "import pandas as pd"
   ]
  },
  {
   "cell_type": "code",
   "execution_count": 2,
   "metadata": {},
   "outputs": [],
   "source": [
    "#Cargo los sets\n",
    "X_train = pd.read_csv('data/X_train_features.csv', dtype={'id':'int',\\\n",
    "                                           'tipodepropiedad':'category',\\\n",
    "                                           'ciudad':'category', 'provincia':'category',\\\n",
    "                                           'antiguedad':'float', 'habitaciones':'float',\\\n",
    "                                           'garages':'float','banos':'float',\\\n",
    "                                           'metroscubiertos':'float', 'metrostotales':'float',\\\n",
    "                                           'idzona':'float',\\\n",
    "                                           'gimnasio':'bool', 'usosmultiples':'bool',\\\n",
    "                                           'piscina':'bool', 'escuelascercanas':'bool',\\\n",
    "                                           'centroscomercialescercanos':'bool'\\\n",
    "                                           }, index_col='id')\n",
    "y_train = pd.read_csv('data/y_train.csv',header=None,squeeze=True,index_col=0)\n",
    "X_test = pd.read_csv('data/X_test_features.csv', dtype={'id':'int',\\\n",
    "                                           'tipodepropiedad':'category',\\\n",
    "                                           'ciudad':'category', 'provincia':'category',\\\n",
    "                                           'antiguedad':'float', 'habitaciones':'float',\\\n",
    "                                           'garages':'float','banos':'float',\\\n",
    "                                           'metroscubiertos':'float', 'metrostotales':'float',\\\n",
    "                                           'idzona':'float',\\\n",
    "                                           'gimnasio':'bool', 'usosmultiples':'bool',\\\n",
    "                                           'piscina':'bool', 'escuelascercanas':'bool',\\\n",
    "                                           'centroscomercialescercanos':'bool'\\\n",
    "                                           }, index_col='id')\n",
    "y_test = pd.read_csv('data/y_test.csv',header=None,squeeze=True,index_col=0)"
   ]
  },
  {
   "cell_type": "code",
   "execution_count": 3,
   "metadata": {},
   "outputs": [],
   "source": [
    "X_submit = pd.read_csv('data/X_submit_features.csv', dtype={'id':'int',\\\n",
    "                                           'tipodepropiedad':'category',\\\n",
    "                                           'ciudad':'category', 'provincia':'category',\\\n",
    "                                           'antiguedad':'float', 'habitaciones':'float',\\\n",
    "                                           'garages':'float','banos':'float',\\\n",
    "                                           'metroscubiertos':'float', 'metrostotales':'float',\\\n",
    "                                           'idzona':'float',\\\n",
    "                                           'gimnasio':'bool', 'usosmultiples':'bool',\\\n",
    "                                           'piscina':'bool', 'escuelascercanas':'bool',\\\n",
    "                                           'centroscomercialescercanos':'bool'\\\n",
    "                                           }, index_col='id')"
   ]
  },
  {
   "cell_type": "code",
   "execution_count": 4,
   "metadata": {},
   "outputs": [],
   "source": [
    "y_train_log = np.log1p(y_train)\n",
    "y_test_log = np.log1p(y_test)"
   ]
  },
  {
   "cell_type": "code",
   "execution_count": 5,
   "metadata": {},
   "outputs": [
    {
     "data": {
      "text/plain": [
       "['metroscubiertos',\n",
       " 'banos',\n",
       " 'metrostotales',\n",
       " 'provincia__Distrito Federal',\n",
       " 'idzona',\n",
       " 'garages',\n",
       " 'tipodepropiedad__Apartamento',\n",
       " 'tipodepropiedad__Terreno',\n",
       " 'habitaciones',\n",
       " 'antiguedad',\n",
       " 'año',\n",
       " 'dia',\n",
       " 'tipodepropiedad__Casa',\n",
       " 'mes',\n",
       " 'provincia__Edo. de México',\n",
       " 'ciudad_3',\n",
       " 'ciudad_2',\n",
       " 'ciudad_8',\n",
       " 'ciudad_4',\n",
       " 'ciudad_9',\n",
       " 'ciudad_7',\n",
       " 'ciudad_10',\n",
       " 'ciudad_5',\n",
       " 'ciudad_6',\n",
       " 'provincia__Nuevo León',\n",
       " 'provincia__Jalisco',\n",
       " 'tipodepropiedad__Terreno comercial',\n",
       " 'centroscomercialescercanos',\n",
       " 'provincia__Yucatán',\n",
       " 'escuelascercanas',\n",
       " 'piscina',\n",
       " 'tipodepropiedad__Casa en condominio',\n",
       " 'gimnasio',\n",
       " 'tipodepropiedad__Edificio',\n",
       " 'provincia__Querétaro',\n",
       " 'tipodepropiedad__Local Comercial',\n",
       " 'provincia__San luis Potosí',\n",
       " 'provincia__Puebla',\n",
       " 'provincia__Durango',\n",
       " 'provincia__Coahuila',\n",
       " 'tipodepropiedad__Oficina comercial',\n",
       " 'tipodepropiedad__Bodega comercial',\n",
       " 'provincia__Morelos',\n",
       " 'usosmultiples',\n",
       " 'provincia__Sonora',\n",
       " 'provincia__Chihuahua',\n",
       " 'provincia__Veracruz',\n",
       " 'provincia__Quintana Roo',\n",
       " 'provincia__Guanajuato',\n",
       " 'provincia__Baja California Norte',\n",
       " 'provincia__Tamaulipas',\n",
       " 'provincia__Guerrero',\n",
       " 'provincia__Chiapas',\n",
       " 'provincia__Michoacán',\n",
       " 'provincia__Hidalgo',\n",
       " 'ciudad_1',\n",
       " 'provincia__Tabasco',\n",
       " 'provincia__Sinaloa',\n",
       " 'provincia__Nayarit',\n",
       " 'provincia__Aguascalientes']"
      ]
     },
     "execution_count": 5,
     "metadata": {},
     "output_type": "execute_result"
    }
   ],
   "source": [
    "features_50 = pd.read_csv('data/features_importancia_tercera_etapa.csv',index_col=0).head(60)\\\n",
    "            .index.tolist()\n",
    "features_50"
   ]
  },
  {
   "cell_type": "code",
   "execution_count": 6,
   "metadata": {},
   "outputs": [],
   "source": [
    "X_train_n = X_train[features_50]\n",
    "X_test_n = X_test[features_50]"
   ]
  },
  {
   "cell_type": "code",
   "execution_count": 7,
   "metadata": {},
   "outputs": [],
   "source": [
    "X_submit_n = X_submit[features_50]"
   ]
  },
  {
   "cell_type": "code",
   "execution_count": 8,
   "metadata": {},
   "outputs": [],
   "source": [
    "feature_names = X_train_n.columns.tolist()\n",
    "features_names_ascii = []"
   ]
  },
  {
   "cell_type": "code",
   "execution_count": 9,
   "metadata": {},
   "outputs": [],
   "source": [
    "for name in feature_names:\n",
    "    name = name.encode('ascii', 'ignore').decode('ascii')\n",
    "    features_names_ascii.append(name)"
   ]
  },
  {
   "cell_type": "code",
   "execution_count": 10,
   "metadata": {},
   "outputs": [],
   "source": [
    "X_train_n.columns = features_names_ascii"
   ]
  },
  {
   "cell_type": "code",
   "execution_count": 11,
   "metadata": {},
   "outputs": [],
   "source": [
    "X_test_n.columns = features_names_ascii"
   ]
  },
  {
   "cell_type": "code",
   "execution_count": 12,
   "metadata": {},
   "outputs": [],
   "source": [
    "X_submit_n.columns = features_names_ascii"
   ]
  },
  {
   "cell_type": "code",
   "execution_count": 13,
   "metadata": {},
   "outputs": [],
   "source": [
    "def RMSE(actual, pred):\n",
    "    return np.sqrt(mean_squared_error(actual, pred))"
   ]
  },
  {
   "cell_type": "code",
   "execution_count": 137,
   "metadata": {},
   "outputs": [],
   "source": [
    "forest = LGBMRegressor(n_estimators=200, class_weight=None, colsample_bytree=1.0,\n",
    "              importance_type='split', learning_rate=0.05, max_depth=25,\n",
    "              min_child_samples=15, min_child_weight=0.001, min_split_gain=0.0,\n",
    "              boosting_type='gbdt', n_jobs=5, num_leaves=1000, objective=None,\n",
    "              random_state=None, reg_alpha=0.0, reg_lambda=0.0, silent=False,\n",
    "              subsample=1.0, subsample_freq=0)"
   ]
  },
  {
   "cell_type": "code",
   "execution_count": 138,
   "metadata": {},
   "outputs": [
    {
     "name": "stdout",
     "output_type": "stream",
     "text": [
      "CPU times: user 52.4 s, sys: 268 ms, total: 52.7 s\n",
      "Wall time: 11 s\n"
     ]
    },
    {
     "data": {
      "text/plain": [
       "LGBMRegressor(boosting_type='gbdt', class_weight=None, colsample_bytree=1.0,\n",
       "              importance_type='split', learning_rate=0.05, max_depth=25,\n",
       "              min_child_samples=15, min_child_weight=0.001, min_split_gain=0.0,\n",
       "              n_estimators=200, n_jobs=5, num_leaves=1000, objective=None,\n",
       "              random_state=None, reg_alpha=0.0, reg_lambda=0.0, silent=False,\n",
       "              subsample=1.0, subsample_for_bin=200000, subsample_freq=0)"
      ]
     },
     "execution_count": 138,
     "metadata": {},
     "output_type": "execute_result"
    }
   ],
   "source": [
    "%time forest.fit(X_train_n, y_train_log)"
   ]
  },
  {
   "cell_type": "code",
   "execution_count": 139,
   "metadata": {},
   "outputs": [],
   "source": [
    "y_train_predict = forest.predict(X_train_n)\n",
    "y_test_predict = forest.predict(X_test_n)"
   ]
  },
  {
   "cell_type": "code",
   "execution_count": 140,
   "metadata": {},
   "outputs": [
    {
     "name": "stdout",
     "output_type": "stream",
     "text": [
      "0.21989314207287547\n"
     ]
    }
   ],
   "source": [
    "rmse_train=RMSE(y_train_log,y_train_predict)\n",
    "print(rmse_train)"
   ]
  },
  {
   "cell_type": "code",
   "execution_count": 141,
   "metadata": {},
   "outputs": [
    {
     "name": "stdout",
     "output_type": "stream",
     "text": [
      "0.31712820603110614\n"
     ]
    }
   ],
   "source": [
    "rmse_test=RMSE(y_test_log,y_test_predict)\n",
    "print(rmse_test)"
   ]
  },
  {
   "cell_type": "code",
   "execution_count": null,
   "metadata": {},
   "outputs": [],
   "source": [
    "0.21086491018527126"
   ]
  },
  {
   "cell_type": "code",
   "execution_count": null,
   "metadata": {},
   "outputs": [],
   "source": [
    "0.31744670347298926"
   ]
  },
  {
   "cell_type": "code",
   "execution_count": 157,
   "metadata": {},
   "outputs": [
    {
     "name": "stdout",
     "output_type": "stream",
     "text": [
      "CPU times: user 28 µs, sys: 0 ns, total: 28 µs\n",
      "Wall time: 32.4 µs\n"
     ]
    },
    {
     "name": "stderr",
     "output_type": "stream",
     "text": [
      "/home/franco/anaconda3/lib/python3.7/site-packages/sklearn/model_selection/_split.py:1978: FutureWarning: The default value of cv will change from 3 to 5 in version 0.22. Specify it explicitly to silence this warning.\n",
      "  warnings.warn(CV_WARNING, FutureWarning)\n"
     ]
    },
    {
     "name": "stdout",
     "output_type": "stream",
     "text": [
      "CPU times: user 1h 52min 5s, sys: 32.8 s, total: 1h 52min 38s\n",
      "Wall time: 23min 27s\n"
     ]
    },
    {
     "data": {
      "text/plain": [
       "GridSearchCV(cv='warn', error_score='raise-deprecating',\n",
       "             estimator=LGBMRegressor(bagging_fraction=0.8, bagging_freq=15,\n",
       "                                     boosting_type='gbdt', class_weight=None,\n",
       "                                     colsample_bytree=1.0, feature_fraction=0.5,\n",
       "                                     importance_type='split', is_unbalance=True,\n",
       "                                     learning_rate=0.05, max_depth=25,\n",
       "                                     min_child_samples=20,\n",
       "                                     min_child_weight=0.001, min_split_gain=0.0,\n",
       "                                     n_estimators=50,...\n",
       "                                     num_leaves=1000, objective='regression',\n",
       "                                     random_state=10, reg_alpha=0.0,\n",
       "                                     reg_lambda=0.0, silent=True, subsample=1.0,\n",
       "                                     subsample_for_bin=200000,\n",
       "                                     subsample_freq=0),\n",
       "             iid='warn', n_jobs=None,\n",
       "             param_grid={'n_estimators': range(50, 400, 80),\n",
       "                         'num_leaves': range(20, 1000, 75)},\n",
       "             pre_dispatch='2*n_jobs', refit=True, return_train_score=False,\n",
       "             scoring=make_scorer(mean_squared_error, greater_is_better=False),\n",
       "             verbose=0)"
      ]
     },
     "execution_count": 157,
     "metadata": {},
     "output_type": "execute_result"
    }
   ],
   "source": [
    "from sklearn.metrics import make_scorer\n",
    "score_func = make_scorer(mean_squared_error, greater_is_better=False)\n",
    "\n",
    "model = LGBMRegressor( \n",
    "    boosting_type=\"gbdt\",\n",
    "    objective='regression',\n",
    "    is_unbalance=True, \n",
    "    random_state=10, \n",
    "    n_estimators=50,\n",
    "    num_leaves=1000, \n",
    "    max_depth=25,\n",
    "    feature_fraction=0.5,  \n",
    "    bagging_fraction=0.8, \n",
    "    bagging_freq=15, \n",
    "    learning_rate=0.05,    \n",
    ")\n",
    "\n",
    "params_opt = {'n_estimators':range(50, 400, 80), 'num_leaves':range(20,1000,75)}\n",
    "%time gridSearchCV = GridSearchCV(estimator = model, param_grid = params_opt, scoring=score_func)\n",
    "%time gridSearchCV.fit(X_train_n,y_train_log)"
   ]
  },
  {
   "cell_type": "code",
   "execution_count": 158,
   "metadata": {},
   "outputs": [
    {
     "data": {
      "text/plain": [
       "{'mean_fit_time': array([ 0.95401446,  1.18331432,  1.40243856,  1.5041221 ,  1.6283462 ,\n",
       "         1.71387021,  1.78017966,  2.04303678,  2.00360425,  2.09165994,\n",
       "         2.17241748,  2.27412526,  2.37242953,  2.46032929,  1.39384015,\n",
       "         2.11986335,  2.52969209,  2.89161595,  3.28137422,  3.65133063,\n",
       "         3.8390797 ,  3.9941709 ,  4.4370234 ,  4.78256607,  5.15053113,\n",
       "         5.19914977,  5.2842478 ,  6.04926626,  2.07155808,  2.95866895,\n",
       "         3.50625666,  4.15265989,  4.89353156,  5.01089994,  5.50616558,\n",
       "         5.8218116 ,  6.1799434 ,  6.98434313,  7.05445043,  8.35519218,\n",
       "         8.22444169,  8.63321479,  2.55541039,  4.00606028,  4.77646796,\n",
       "         5.38973721,  6.02487246,  6.80861076,  7.19317174,  7.80587403,\n",
       "         8.42585874,  9.52539404,  9.66115491, 10.38559222, 11.62554884,\n",
       "        12.05673321,  2.69075314,  4.81659754,  5.5951368 ,  6.3061072 ,\n",
       "         7.36063576,  7.96745992,  9.18570916, 10.70430271, 10.90040127,\n",
       "        11.3663679 , 11.8862385 , 12.90426119, 13.12087742, 14.17305215]),\n",
       " 'std_fit_time': array([0.06936188, 0.03970777, 0.00944983, 0.02727825, 0.03148918,\n",
       "        0.03283302, 0.02771834, 0.12206482, 0.02388124, 0.03830352,\n",
       "        0.01866091, 0.01810297, 0.01555688, 0.03403341, 0.01011122,\n",
       "        0.03359644, 0.02249779, 0.07064883, 0.03295509, 0.25747963,\n",
       "        0.26839449, 0.08620378, 0.08703779, 0.24116092, 0.06773497,\n",
       "        0.11332799, 0.15519086, 0.03129482, 0.06059915, 0.05437214,\n",
       "        0.04661956, 0.11757057, 0.15308801, 0.14024099, 0.15641049,\n",
       "        0.07516215, 0.00464557, 0.06580613, 0.12442074, 0.28751217,\n",
       "        0.33690474, 0.13333627, 0.15130814, 0.20514167, 0.07260546,\n",
       "        0.07256565, 0.1280759 , 0.31895619, 0.17193255, 0.18872868,\n",
       "        0.11964394, 0.76191247, 0.08909347, 0.08443756, 0.28774311,\n",
       "        1.05442141, 0.03355492, 0.39917874, 0.1718645 , 0.25588876,\n",
       "        0.07902288, 0.34434275, 0.56190637, 0.32780237, 0.55767139,\n",
       "        0.3273679 , 0.67291727, 0.21089922, 0.29748349, 0.18850717]),\n",
       " 'mean_score_time': array([0.28957884, 0.34018262, 0.36042738, 0.36374227, 0.35835719,\n",
       "        0.36836561, 0.37647557, 0.40493989, 0.39904324, 0.3946739 ,\n",
       "        0.40905277, 0.41811864, 0.40537286, 0.41109784, 0.43781416,\n",
       "        0.50201964, 0.56105955, 0.62430827, 0.66193358, 0.65970969,\n",
       "        0.65891059, 0.6743563 , 0.7096986 , 0.7489806 , 0.76991089,\n",
       "        0.79963938, 0.75875854, 0.84145172, 0.7015694 , 0.68736513,\n",
       "        0.75524235, 0.80300117, 0.91082088, 0.87275871, 0.97705746,\n",
       "        0.9455537 , 1.0458916 , 1.02734836, 1.04499451, 1.13612564,\n",
       "        1.10986869, 1.17656064, 0.87044819, 0.95786802, 0.98455532,\n",
       "        1.0564882 , 1.15194917, 1.208426  , 1.25534376, 1.23865541,\n",
       "        1.31370187, 1.49497501, 1.49479612, 1.63662632, 1.98764825,\n",
       "        1.71184031, 0.95981153, 1.12318683, 1.26487422, 1.38936814,\n",
       "        1.37587667, 1.46932165, 1.54786571, 2.0055631 , 1.80893199,\n",
       "        1.84328691, 1.86947807, 2.03421219, 2.06135758, 2.41239134]),\n",
       " 'std_score_time': array([0.01293923, 0.00838971, 0.00809974, 0.01434172, 0.00510828,\n",
       "        0.00353086, 0.00143164, 0.02488577, 0.00773005, 0.00059493,\n",
       "        0.00509213, 0.00141459, 0.00213399, 0.00101843, 0.00434019,\n",
       "        0.0007124 , 0.02036492, 0.05241571, 0.07092274, 0.03060294,\n",
       "        0.02264595, 0.01294572, 0.03083271, 0.02879501, 0.0195398 ,\n",
       "        0.03196292, 0.01417524, 0.0448861 , 0.0353426 , 0.00386417,\n",
       "        0.00475839, 0.00543118, 0.03614827, 0.00392492, 0.07851978,\n",
       "        0.00929424, 0.02576626, 0.03078576, 0.01886334, 0.04431829,\n",
       "        0.01509356, 0.04060163, 0.06367785, 0.03993685, 0.00507172,\n",
       "        0.00643205, 0.03267629, 0.04115518, 0.03698794, 0.02567341,\n",
       "        0.01667515, 0.16830671, 0.04557354, 0.01999944, 0.51376062,\n",
       "        0.14149558, 0.00221805, 0.0303522 , 0.05684568, 0.11656058,\n",
       "        0.02250431, 0.00877341, 0.08180074, 0.35393319, 0.17070436,\n",
       "        0.13208366, 0.07664092, 0.04017098, 0.00359864, 0.21591611]),\n",
       " 'param_n_estimators': masked_array(data=[50, 50, 50, 50, 50, 50, 50, 50, 50, 50, 50, 50, 50, 50,\n",
       "                    130, 130, 130, 130, 130, 130, 130, 130, 130, 130, 130,\n",
       "                    130, 130, 130, 210, 210, 210, 210, 210, 210, 210, 210,\n",
       "                    210, 210, 210, 210, 210, 210, 290, 290, 290, 290, 290,\n",
       "                    290, 290, 290, 290, 290, 290, 290, 290, 290, 370, 370,\n",
       "                    370, 370, 370, 370, 370, 370, 370, 370, 370, 370, 370,\n",
       "                    370],\n",
       "              mask=[False, False, False, False, False, False, False, False,\n",
       "                    False, False, False, False, False, False, False, False,\n",
       "                    False, False, False, False, False, False, False, False,\n",
       "                    False, False, False, False, False, False, False, False,\n",
       "                    False, False, False, False, False, False, False, False,\n",
       "                    False, False, False, False, False, False, False, False,\n",
       "                    False, False, False, False, False, False, False, False,\n",
       "                    False, False, False, False, False, False, False, False,\n",
       "                    False, False, False, False, False, False],\n",
       "        fill_value='?',\n",
       "             dtype=object),\n",
       " 'param_num_leaves': masked_array(data=[20, 95, 170, 245, 320, 395, 470, 545, 620, 695, 770,\n",
       "                    845, 920, 995, 20, 95, 170, 245, 320, 395, 470, 545,\n",
       "                    620, 695, 770, 845, 920, 995, 20, 95, 170, 245, 320,\n",
       "                    395, 470, 545, 620, 695, 770, 845, 920, 995, 20, 95,\n",
       "                    170, 245, 320, 395, 470, 545, 620, 695, 770, 845, 920,\n",
       "                    995, 20, 95, 170, 245, 320, 395, 470, 545, 620, 695,\n",
       "                    770, 845, 920, 995],\n",
       "              mask=[False, False, False, False, False, False, False, False,\n",
       "                    False, False, False, False, False, False, False, False,\n",
       "                    False, False, False, False, False, False, False, False,\n",
       "                    False, False, False, False, False, False, False, False,\n",
       "                    False, False, False, False, False, False, False, False,\n",
       "                    False, False, False, False, False, False, False, False,\n",
       "                    False, False, False, False, False, False, False, False,\n",
       "                    False, False, False, False, False, False, False, False,\n",
       "                    False, False, False, False, False, False],\n",
       "        fill_value='?',\n",
       "             dtype=object),\n",
       " 'params': [{'n_estimators': 50, 'num_leaves': 20},\n",
       "  {'n_estimators': 50, 'num_leaves': 95},\n",
       "  {'n_estimators': 50, 'num_leaves': 170},\n",
       "  {'n_estimators': 50, 'num_leaves': 245},\n",
       "  {'n_estimators': 50, 'num_leaves': 320},\n",
       "  {'n_estimators': 50, 'num_leaves': 395},\n",
       "  {'n_estimators': 50, 'num_leaves': 470},\n",
       "  {'n_estimators': 50, 'num_leaves': 545},\n",
       "  {'n_estimators': 50, 'num_leaves': 620},\n",
       "  {'n_estimators': 50, 'num_leaves': 695},\n",
       "  {'n_estimators': 50, 'num_leaves': 770},\n",
       "  {'n_estimators': 50, 'num_leaves': 845},\n",
       "  {'n_estimators': 50, 'num_leaves': 920},\n",
       "  {'n_estimators': 50, 'num_leaves': 995},\n",
       "  {'n_estimators': 130, 'num_leaves': 20},\n",
       "  {'n_estimators': 130, 'num_leaves': 95},\n",
       "  {'n_estimators': 130, 'num_leaves': 170},\n",
       "  {'n_estimators': 130, 'num_leaves': 245},\n",
       "  {'n_estimators': 130, 'num_leaves': 320},\n",
       "  {'n_estimators': 130, 'num_leaves': 395},\n",
       "  {'n_estimators': 130, 'num_leaves': 470},\n",
       "  {'n_estimators': 130, 'num_leaves': 545},\n",
       "  {'n_estimators': 130, 'num_leaves': 620},\n",
       "  {'n_estimators': 130, 'num_leaves': 695},\n",
       "  {'n_estimators': 130, 'num_leaves': 770},\n",
       "  {'n_estimators': 130, 'num_leaves': 845},\n",
       "  {'n_estimators': 130, 'num_leaves': 920},\n",
       "  {'n_estimators': 130, 'num_leaves': 995},\n",
       "  {'n_estimators': 210, 'num_leaves': 20},\n",
       "  {'n_estimators': 210, 'num_leaves': 95},\n",
       "  {'n_estimators': 210, 'num_leaves': 170},\n",
       "  {'n_estimators': 210, 'num_leaves': 245},\n",
       "  {'n_estimators': 210, 'num_leaves': 320},\n",
       "  {'n_estimators': 210, 'num_leaves': 395},\n",
       "  {'n_estimators': 210, 'num_leaves': 470},\n",
       "  {'n_estimators': 210, 'num_leaves': 545},\n",
       "  {'n_estimators': 210, 'num_leaves': 620},\n",
       "  {'n_estimators': 210, 'num_leaves': 695},\n",
       "  {'n_estimators': 210, 'num_leaves': 770},\n",
       "  {'n_estimators': 210, 'num_leaves': 845},\n",
       "  {'n_estimators': 210, 'num_leaves': 920},\n",
       "  {'n_estimators': 210, 'num_leaves': 995},\n",
       "  {'n_estimators': 290, 'num_leaves': 20},\n",
       "  {'n_estimators': 290, 'num_leaves': 95},\n",
       "  {'n_estimators': 290, 'num_leaves': 170},\n",
       "  {'n_estimators': 290, 'num_leaves': 245},\n",
       "  {'n_estimators': 290, 'num_leaves': 320},\n",
       "  {'n_estimators': 290, 'num_leaves': 395},\n",
       "  {'n_estimators': 290, 'num_leaves': 470},\n",
       "  {'n_estimators': 290, 'num_leaves': 545},\n",
       "  {'n_estimators': 290, 'num_leaves': 620},\n",
       "  {'n_estimators': 290, 'num_leaves': 695},\n",
       "  {'n_estimators': 290, 'num_leaves': 770},\n",
       "  {'n_estimators': 290, 'num_leaves': 845},\n",
       "  {'n_estimators': 290, 'num_leaves': 920},\n",
       "  {'n_estimators': 290, 'num_leaves': 995},\n",
       "  {'n_estimators': 370, 'num_leaves': 20},\n",
       "  {'n_estimators': 370, 'num_leaves': 95},\n",
       "  {'n_estimators': 370, 'num_leaves': 170},\n",
       "  {'n_estimators': 370, 'num_leaves': 245},\n",
       "  {'n_estimators': 370, 'num_leaves': 320},\n",
       "  {'n_estimators': 370, 'num_leaves': 395},\n",
       "  {'n_estimators': 370, 'num_leaves': 470},\n",
       "  {'n_estimators': 370, 'num_leaves': 545},\n",
       "  {'n_estimators': 370, 'num_leaves': 620},\n",
       "  {'n_estimators': 370, 'num_leaves': 695},\n",
       "  {'n_estimators': 370, 'num_leaves': 770},\n",
       "  {'n_estimators': 370, 'num_leaves': 845},\n",
       "  {'n_estimators': 370, 'num_leaves': 920},\n",
       "  {'n_estimators': 370, 'num_leaves': 995}],\n",
       " 'split0_test_score': array([-0.18602985, -0.15161049, -0.14308667, -0.13859894, -0.13562526,\n",
       "        -0.13350425, -0.13193236, -0.13092846, -0.13002861, -0.12930983,\n",
       "        -0.12860459, -0.12797242, -0.12746524, -0.1272014 , -0.14205737,\n",
       "        -0.11793419, -0.1132233 , -0.11067174, -0.10903727, -0.1082043 ,\n",
       "        -0.10744083, -0.1068324 , -0.10649054, -0.10625292, -0.1059469 ,\n",
       "        -0.1054984 , -0.10515163, -0.10527626, -0.13091642, -0.11123492,\n",
       "        -0.10751423, -0.10588483, -0.10472089, -0.10432644, -0.10379786,\n",
       "        -0.10325107, -0.10322941, -0.10310295, -0.1029062 , -0.10263554,\n",
       "        -0.10233959, -0.10235425, -0.1249112 , -0.10801196, -0.10507239,\n",
       "        -0.10385816, -0.10274025, -0.10266096, -0.10232591, -0.10202496,\n",
       "        -0.1020608 , -0.10183771, -0.10182468, -0.10153411, -0.10142941,\n",
       "        -0.10149193, -0.12141   , -0.10641236, -0.10383072, -0.10258197,\n",
       "        -0.10161719, -0.10157139, -0.1014474 , -0.10104968, -0.10117501,\n",
       "        -0.10112411, -0.10120316, -0.10092158, -0.10088812, -0.10097469]),\n",
       " 'split1_test_score': array([-0.18613762, -0.15164537, -0.14261049, -0.13791822, -0.1353463 ,\n",
       "        -0.13300936, -0.13192519, -0.13079735, -0.12986561, -0.12914996,\n",
       "        -0.12848768, -0.12784255, -0.12754473, -0.12703254, -0.14249933,\n",
       "        -0.1186747 , -0.11341814, -0.11068971, -0.10918073, -0.10797771,\n",
       "        -0.10715114, -0.10669143, -0.10612949, -0.10599469, -0.10540036,\n",
       "        -0.10512161, -0.10494396, -0.10482488, -0.13185928, -0.11200797,\n",
       "        -0.10770451, -0.10593969, -0.1048855 , -0.10393406, -0.10346418,\n",
       "        -0.10318939, -0.10265367, -0.10269348, -0.10242142, -0.10214129,\n",
       "        -0.10210884, -0.10218742, -0.12564256, -0.108752  , -0.10526865,\n",
       "        -0.10377752, -0.10306544, -0.10240016, -0.10210971, -0.10187938,\n",
       "        -0.10146929, -0.10153261, -0.10136727, -0.10115253, -0.10116577,\n",
       "        -0.10130298, -0.1221038 , -0.10690383, -0.10378624, -0.10246583,\n",
       "        -0.10188222, -0.10117818, -0.10102813, -0.10098058, -0.10067803,\n",
       "        -0.10070824, -0.10065284, -0.10049606, -0.10066403, -0.10073368]),\n",
       " 'split2_test_score': array([-0.1833174 , -0.14949934, -0.14068101, -0.13620373, -0.13328877,\n",
       "        -0.13152693, -0.13008323, -0.12874055, -0.12785438, -0.12717081,\n",
       "        -0.12647673, -0.12591953, -0.12544185, -0.12508517, -0.13923235,\n",
       "        -0.11652895, -0.11130175, -0.10885324, -0.10741786, -0.10654107,\n",
       "        -0.10597707, -0.10542109, -0.10488409, -0.10451829, -0.10436937,\n",
       "        -0.10400663, -0.10380812, -0.10364054, -0.12874513, -0.10992332,\n",
       "        -0.10609515, -0.10436414, -0.10329593, -0.10280795, -0.10236371,\n",
       "        -0.10219405, -0.10181112, -0.1016188 , -0.10156561, -0.10122269,\n",
       "        -0.10140834, -0.10112594, -0.12289486, -0.10718531, -0.10398752,\n",
       "        -0.10265176, -0.10181659, -0.10130458, -0.10102758, -0.10112893,\n",
       "        -0.10066061, -0.10054435, -0.10054849, -0.10027654, -0.10051036,\n",
       "        -0.10031876, -0.11938819, -0.10543414, -0.10260638, -0.10148773,\n",
       "        -0.1007529 , -0.10026771, -0.10011057, -0.10026763, -0.1000013 ,\n",
       "        -0.09985978, -0.09997405, -0.09972204, -0.09997771, -0.09992795]),\n",
       " 'mean_test_score': array([-0.18516163, -0.1509184 , -0.14212605, -0.13757363, -0.13475344,\n",
       "        -0.13268018, -0.13131359, -0.13015545, -0.12924954, -0.12854353,\n",
       "        -0.12785633, -0.12724484, -0.12681727, -0.1264397 , -0.14126302,\n",
       "        -0.11771261, -0.11264773, -0.11007156, -0.10854529, -0.10757436,\n",
       "        -0.10685635, -0.10631497, -0.1058347 , -0.10558864, -0.10523888,\n",
       "        -0.10487555, -0.10463457, -0.10458056, -0.13050694, -0.1110554 ,\n",
       "        -0.10710463, -0.10539622, -0.10430077, -0.10368948, -0.10320858,\n",
       "        -0.10287817, -0.10256473, -0.10247174, -0.10229774, -0.10199984,\n",
       "        -0.10195225, -0.1018892 , -0.12448287, -0.10798309, -0.10477619,\n",
       "        -0.10342915, -0.10254076, -0.1021219 , -0.10182107, -0.10167776,\n",
       "        -0.1013969 , -0.10130489, -0.10124681, -0.10098773, -0.10103518,\n",
       "        -0.10103789, -0.12096733, -0.10625011, -0.10340778, -0.10217851,\n",
       "        -0.10141744, -0.10100576, -0.10086203, -0.10076596, -0.10061811,\n",
       "        -0.10056405, -0.10061002, -0.10037989, -0.10050995, -0.10054544]),\n",
       " 'std_test_score': array([0.0013048 , 0.00100353, 0.00104013, 0.00100774, 0.00104192,\n",
       "        0.00084013, 0.00087   , 0.00100192, 0.00098877, 0.00097285,\n",
       "        0.0009767 , 0.00093863, 0.00097311, 0.00096027, 0.00144719,\n",
       "        0.0008899 , 0.00095507, 0.00086151, 0.00079936, 0.00073648,\n",
       "        0.00063289, 0.00063468, 0.00068816, 0.00076416, 0.00065407,\n",
       "        0.00063338, 0.00059051, 0.00068976, 0.0013039 , 0.00086047,\n",
       "        0.00071803, 0.00073013, 0.0007137 , 0.00064359, 0.00061275,\n",
       "        0.0004844 , 0.00058242, 0.00062586, 0.00055424, 0.0005854 ,\n",
       "        0.00039597, 0.00054398, 0.00116191, 0.00063992, 0.0005634 ,\n",
       "        0.00055068, 0.000529  , 0.00058766, 0.00056798, 0.0003926 ,\n",
       "        0.00057391, 0.00055202, 0.00052792, 0.00052646, 0.0003864 ,\n",
       "        0.00051432, 0.00115198, 0.00061087, 0.00056696, 0.00049075,\n",
       "        0.00048219, 0.00054601, 0.00055825, 0.0003535 , 0.00048104,\n",
       "        0.00052614, 0.00050269, 0.00049655, 0.00038731, 0.00044758]),\n",
       " 'rank_test_score': array([70, 69, 68, 66, 65, 64, 63, 61, 60, 59, 58, 57, 56, 55, 67, 52, 51,\n",
       "        49, 48, 46, 44, 43, 41, 40, 38, 37, 35, 34, 62, 50, 45, 39, 33, 32,\n",
       "        29, 28, 27, 25, 24, 21, 20, 19, 54, 47, 36, 31, 26, 22, 18, 17, 15,\n",
       "        14, 13,  9, 11, 12, 53, 42, 30, 23, 16, 10,  8,  7,  6,  4,  5,  1,\n",
       "         2,  3], dtype=int32)}"
      ]
     },
     "execution_count": 158,
     "metadata": {},
     "output_type": "execute_result"
    }
   ],
   "source": [
    "gridSearchCV.cv_results_"
   ]
  },
  {
   "cell_type": "raw",
   "metadata": {},
   "source": [
    "{'mean_fit_time': array([ 0.95401446,  1.18331432,  1.40243856,  1.5041221 ,  1.6283462 ,\n",
    "         1.71387021,  1.78017966,  2.04303678,  2.00360425,  2.09165994,\n",
    "         2.17241748,  2.27412526,  2.37242953,  2.46032929,  1.39384015,\n",
    "         2.11986335,  2.52969209,  2.89161595,  3.28137422,  3.65133063,\n",
    "         3.8390797 ,  3.9941709 ,  4.4370234 ,  4.78256607,  5.15053113,\n",
    "         5.19914977,  5.2842478 ,  6.04926626,  2.07155808,  2.95866895,\n",
    "         3.50625666,  4.15265989,  4.89353156,  5.01089994,  5.50616558,\n",
    "         5.8218116 ,  6.1799434 ,  6.98434313,  7.05445043,  8.35519218,\n",
    "         8.22444169,  8.63321479,  2.55541039,  4.00606028,  4.77646796,\n",
    "         5.38973721,  6.02487246,  6.80861076,  7.19317174,  7.80587403,\n",
    "         8.42585874,  9.52539404,  9.66115491, 10.38559222, 11.62554884,\n",
    "        12.05673321,  2.69075314,  4.81659754,  5.5951368 ,  6.3061072 ,\n",
    "         7.36063576,  7.96745992,  9.18570916, 10.70430271, 10.90040127,\n",
    "        11.3663679 , 11.8862385 , 12.90426119, 13.12087742, 14.17305215]),\n",
    " 'std_fit_time': array([0.06936188, 0.03970777, 0.00944983, 0.02727825, 0.03148918,\n",
    "        0.03283302, 0.02771834, 0.12206482, 0.02388124, 0.03830352,\n",
    "        0.01866091, 0.01810297, 0.01555688, 0.03403341, 0.01011122,\n",
    "        0.03359644, 0.02249779, 0.07064883, 0.03295509, 0.25747963,\n",
    "        0.26839449, 0.08620378, 0.08703779, 0.24116092, 0.06773497,\n",
    "        0.11332799, 0.15519086, 0.03129482, 0.06059915, 0.05437214,\n",
    "        0.04661956, 0.11757057, 0.15308801, 0.14024099, 0.15641049,\n",
    "        0.07516215, 0.00464557, 0.06580613, 0.12442074, 0.28751217,\n",
    "        0.33690474, 0.13333627, 0.15130814, 0.20514167, 0.07260546,\n",
    "        0.07256565, 0.1280759 , 0.31895619, 0.17193255, 0.18872868,\n",
    "        0.11964394, 0.76191247, 0.08909347, 0.08443756, 0.28774311,\n",
    "        1.05442141, 0.03355492, 0.39917874, 0.1718645 , 0.25588876,\n",
    "        0.07902288, 0.34434275, 0.56190637, 0.32780237, 0.55767139,\n",
    "        0.3273679 , 0.67291727, 0.21089922, 0.29748349, 0.18850717]),\n",
    " 'mean_score_time': array([0.28957884, 0.34018262, 0.36042738, 0.36374227, 0.35835719,\n",
    "        0.36836561, 0.37647557, 0.40493989, 0.39904324, 0.3946739 ,\n",
    "        0.40905277, 0.41811864, 0.40537286, 0.41109784, 0.43781416,\n",
    "        0.50201964, 0.56105955, 0.62430827, 0.66193358, 0.65970969,\n",
    "        0.65891059, 0.6743563 , 0.7096986 , 0.7489806 , 0.76991089,\n",
    "        0.79963938, 0.75875854, 0.84145172, 0.7015694 , 0.68736513,\n",
    "        0.75524235, 0.80300117, 0.91082088, 0.87275871, 0.97705746,\n",
    "        0.9455537 , 1.0458916 , 1.02734836, 1.04499451, 1.13612564,\n",
    "        1.10986869, 1.17656064, 0.87044819, 0.95786802, 0.98455532,\n",
    "        1.0564882 , 1.15194917, 1.208426  , 1.25534376, 1.23865541,\n",
    "        1.31370187, 1.49497501, 1.49479612, 1.63662632, 1.98764825,\n",
    "        1.71184031, 0.95981153, 1.12318683, 1.26487422, 1.38936814,\n",
    "        1.37587667, 1.46932165, 1.54786571, 2.0055631 , 1.80893199,\n",
    "        1.84328691, 1.86947807, 2.03421219, 2.06135758, 2.41239134]),\n",
    " 'std_score_time': array([0.01293923, 0.00838971, 0.00809974, 0.01434172, 0.00510828,\n",
    "        0.00353086, 0.00143164, 0.02488577, 0.00773005, 0.00059493,\n",
    "        0.00509213, 0.00141459, 0.00213399, 0.00101843, 0.00434019,\n",
    "        0.0007124 , 0.02036492, 0.05241571, 0.07092274, 0.03060294,\n",
    "        0.02264595, 0.01294572, 0.03083271, 0.02879501, 0.0195398 ,\n",
    "        0.03196292, 0.01417524, 0.0448861 , 0.0353426 , 0.00386417,\n",
    "        0.00475839, 0.00543118, 0.03614827, 0.00392492, 0.07851978,\n",
    "        0.00929424, 0.02576626, 0.03078576, 0.01886334, 0.04431829,\n",
    "        0.01509356, 0.04060163, 0.06367785, 0.03993685, 0.00507172,\n",
    "        0.00643205, 0.03267629, 0.04115518, 0.03698794, 0.02567341,\n",
    "        0.01667515, 0.16830671, 0.04557354, 0.01999944, 0.51376062,\n",
    "        0.14149558, 0.00221805, 0.0303522 , 0.05684568, 0.11656058,\n",
    "        0.02250431, 0.00877341, 0.08180074, 0.35393319, 0.17070436,\n",
    "        0.13208366, 0.07664092, 0.04017098, 0.00359864, 0.21591611]),\n",
    " 'param_n_estimators': masked_array(data=[50, 50, 50, 50, 50, 50, 50, 50, 50, 50, 50, 50, 50, 50,\n",
    "                    130, 130, 130, 130, 130, 130, 130, 130, 130, 130, 130,\n",
    "                    130, 130, 130, 210, 210, 210, 210, 210, 210, 210, 210,\n",
    "                    210, 210, 210, 210, 210, 210, 290, 290, 290, 290, 290,\n",
    "                    290, 290, 290, 290, 290, 290, 290, 290, 290, 370, 370,\n",
    "                    370, 370, 370, 370, 370, 370, 370, 370, 370, 370, 370,\n",
    "                    370],\n",
    "              mask=[False, False, False, False, False, False, False, False,\n",
    "                    False, False, False, False, False, False, False, False,\n",
    "                    False, False, False, False, False, False, False, False,\n",
    "                    False, False, False, False, False, False, False, False,\n",
    "                    False, False, False, False, False, False, False, False,\n",
    "                    False, False, False, False, False, False, False, False,\n",
    "                    False, False, False, False, False, False, False, False,\n",
    "                    False, False, False, False, False, False, False, False,\n",
    "                    False, False, False, False, False, False],\n",
    "        fill_value='?',\n",
    "             dtype=object),\n",
    " 'param_num_leaves': masked_array(data=[20, 95, 170, 245, 320, 395, 470, 545, 620, 695, 770,\n",
    "                    845, 920, 995, 20, 95, 170, 245, 320, 395, 470, 545,\n",
    "                    620, 695, 770, 845, 920, 995, 20, 95, 170, 245, 320,\n",
    "                    395, 470, 545, 620, 695, 770, 845, 920, 995, 20, 95,\n",
    "                    170, 245, 320, 395, 470, 545, 620, 695, 770, 845, 920,\n",
    "                    995, 20, 95, 170, 245, 320, 395, 470, 545, 620, 695,\n",
    "                    770, 845, 920, 995],\n",
    "              mask=[False, False, False, False, False, False, False, False,\n",
    "                    False, False, False, False, False, False, False, False,\n",
    "                    False, False, False, False, False, False, False, False,\n",
    "                    False, False, False, False, False, False, False, False,\n",
    "                    False, False, False, False, False, False, False, False,\n",
    "                    False, False, False, False, False, False, False, False,\n",
    "                    False, False, False, False, False, False, False, False,\n",
    "                    False, False, False, False, False, False, False, False,\n",
    "                    False, False, False, False, False, False],\n",
    "        fill_value='?',\n",
    "             dtype=object),\n",
    " 'params': [{'n_estimators': 50, 'num_leaves': 20},\n",
    "  {'n_estimators': 50, 'num_leaves': 95},\n",
    "  {'n_estimators': 50, 'num_leaves': 170},\n",
    "  {'n_estimators': 50, 'num_leaves': 245},\n",
    "  {'n_estimators': 50, 'num_leaves': 320},\n",
    "  {'n_estimators': 50, 'num_leaves': 395},\n",
    "  {'n_estimators': 50, 'num_leaves': 470},\n",
    "  {'n_estimators': 50, 'num_leaves': 545},\n",
    "  {'n_estimators': 50, 'num_leaves': 620},\n",
    "  {'n_estimators': 50, 'num_leaves': 695},\n",
    "  {'n_estimators': 50, 'num_leaves': 770},\n",
    "  {'n_estimators': 50, 'num_leaves': 845},\n",
    "  {'n_estimators': 50, 'num_leaves': 920},\n",
    "  {'n_estimators': 50, 'num_leaves': 995},\n",
    "  {'n_estimators': 130, 'num_leaves': 20},\n",
    "  {'n_estimators': 130, 'num_leaves': 95},\n",
    "  {'n_estimators': 130, 'num_leaves': 170},\n",
    "  {'n_estimators': 130, 'num_leaves': 245},\n",
    "  {'n_estimators': 130, 'num_leaves': 320},\n",
    "  {'n_estimators': 130, 'num_leaves': 395},\n",
    "  {'n_estimators': 130, 'num_leaves': 470},\n",
    "  {'n_estimators': 130, 'num_leaves': 545},\n",
    "  {'n_estimators': 130, 'num_leaves': 620},\n",
    "  {'n_estimators': 130, 'num_leaves': 695},\n",
    "  {'n_estimators': 130, 'num_leaves': 770},\n",
    "  {'n_estimators': 130, 'num_leaves': 845},\n",
    "  {'n_estimators': 130, 'num_leaves': 920},\n",
    "  {'n_estimators': 130, 'num_leaves': 995},\n",
    "  {'n_estimators': 210, 'num_leaves': 20},\n",
    "  {'n_estimators': 210, 'num_leaves': 95},\n",
    "  {'n_estimators': 210, 'num_leaves': 170},\n",
    "  {'n_estimators': 210, 'num_leaves': 245},\n",
    "  {'n_estimators': 210, 'num_leaves': 320},\n",
    "  {'n_estimators': 210, 'num_leaves': 395},\n",
    "  {'n_estimators': 210, 'num_leaves': 470},\n",
    "  {'n_estimators': 210, 'num_leaves': 545},\n",
    "  {'n_estimators': 210, 'num_leaves': 620},\n",
    "  {'n_estimators': 210, 'num_leaves': 695},\n",
    "  {'n_estimators': 210, 'num_leaves': 770},\n",
    "  {'n_estimators': 210, 'num_leaves': 845},\n",
    "  {'n_estimators': 210, 'num_leaves': 920},\n",
    "  {'n_estimators': 210, 'num_leaves': 995},\n",
    "  {'n_estimators': 290, 'num_leaves': 20},\n",
    "  {'n_estimators': 290, 'num_leaves': 95},\n",
    "  {'n_estimators': 290, 'num_leaves': 170},\n",
    "  {'n_estimators': 290, 'num_leaves': 245},\n",
    "  {'n_estimators': 290, 'num_leaves': 320},\n",
    "  {'n_estimators': 290, 'num_leaves': 395},\n",
    "  {'n_estimators': 290, 'num_leaves': 470},\n",
    "  {'n_estimators': 290, 'num_leaves': 545},\n",
    "  {'n_estimators': 290, 'num_leaves': 620},\n",
    "  {'n_estimators': 290, 'num_leaves': 695},\n",
    "  {'n_estimators': 290, 'num_leaves': 770},\n",
    "  {'n_estimators': 290, 'num_leaves': 845},\n",
    "  {'n_estimators': 290, 'num_leaves': 920},\n",
    "  {'n_estimators': 290, 'num_leaves': 995},\n",
    "  {'n_estimators': 370, 'num_leaves': 20},\n",
    "  {'n_estimators': 370, 'num_leaves': 95},\n",
    "  {'n_estimators': 370, 'num_leaves': 170},\n",
    "  {'n_estimators': 370, 'num_leaves': 245},\n",
    "  {'n_estimators': 370, 'num_leaves': 320},\n",
    "  {'n_estimators': 370, 'num_leaves': 395},\n",
    "  {'n_estimators': 370, 'num_leaves': 470},\n",
    "  {'n_estimators': 370, 'num_leaves': 545},\n",
    "  {'n_estimators': 370, 'num_leaves': 620},\n",
    "  {'n_estimators': 370, 'num_leaves': 695},\n",
    "  {'n_estimators': 370, 'num_leaves': 770},\n",
    "  {'n_estimators': 370, 'num_leaves': 845},\n",
    "  {'n_estimators': 370, 'num_leaves': 920},\n",
    "  {'n_estimators': 370, 'num_leaves': 995}],\n",
    " 'split0_test_score': array([-0.18602985, -0.15161049, -0.14308667, -0.13859894, -0.13562526,\n",
    "        -0.13350425, -0.13193236, -0.13092846, -0.13002861, -0.12930983,\n",
    "        -0.12860459, -0.12797242, -0.12746524, -0.1272014 , -0.14205737,\n",
    "        -0.11793419, -0.1132233 , -0.11067174, -0.10903727, -0.1082043 ,\n",
    "        -0.10744083, -0.1068324 , -0.10649054, -0.10625292, -0.1059469 ,\n",
    "        -0.1054984 , -0.10515163, -0.10527626, -0.13091642, -0.11123492,\n",
    "        -0.10751423, -0.10588483, -0.10472089, -0.10432644, -0.10379786,\n",
    "        -0.10325107, -0.10322941, -0.10310295, -0.1029062 , -0.10263554,\n",
    "        -0.10233959, -0.10235425, -0.1249112 , -0.10801196, -0.10507239,\n",
    "        -0.10385816, -0.10274025, -0.10266096, -0.10232591, -0.10202496,\n",
    "        -0.1020608 , -0.10183771, -0.10182468, -0.10153411, -0.10142941,\n",
    "        -0.10149193, -0.12141   , -0.10641236, -0.10383072, -0.10258197,\n",
    "        -0.10161719, -0.10157139, -0.1014474 , -0.10104968, -0.10117501,\n",
    "        -0.10112411, -0.10120316, -0.10092158, -0.10088812, -0.10097469]),\n",
    " 'split1_test_score': array([-0.18613762, -0.15164537, -0.14261049, -0.13791822, -0.1353463 ,\n",
    "        -0.13300936, -0.13192519, -0.13079735, -0.12986561, -0.12914996,\n",
    "        -0.12848768, -0.12784255, -0.12754473, -0.12703254, -0.14249933,\n",
    "        -0.1186747 , -0.11341814, -0.11068971, -0.10918073, -0.10797771,\n",
    "        -0.10715114, -0.10669143, -0.10612949, -0.10599469, -0.10540036,\n",
    "        -0.10512161, -0.10494396, -0.10482488, -0.13185928, -0.11200797,\n",
    "        -0.10770451, -0.10593969, -0.1048855 , -0.10393406, -0.10346418,\n",
    "        -0.10318939, -0.10265367, -0.10269348, -0.10242142, -0.10214129,\n",
    "        -0.10210884, -0.10218742, -0.12564256, -0.108752  , -0.10526865,\n",
    "        -0.10377752, -0.10306544, -0.10240016, -0.10210971, -0.10187938,\n",
    "        -0.10146929, -0.10153261, -0.10136727, -0.10115253, -0.10116577,\n",
    "        -0.10130298, -0.1221038 , -0.10690383, -0.10378624, -0.10246583,\n",
    "        -0.10188222, -0.10117818, -0.10102813, -0.10098058, -0.10067803,\n",
    "        -0.10070824, -0.10065284, -0.10049606, -0.10066403, -0.10073368]),\n",
    " 'split2_test_score': array([-0.1833174 , -0.14949934, -0.14068101, -0.13620373, -0.13328877,\n",
    "        -0.13152693, -0.13008323, -0.12874055, -0.12785438, -0.12717081,\n",
    "        -0.12647673, -0.12591953, -0.12544185, -0.12508517, -0.13923235,\n",
    "        -0.11652895, -0.11130175, -0.10885324, -0.10741786, -0.10654107,\n",
    "        -0.10597707, -0.10542109, -0.10488409, -0.10451829, -0.10436937,\n",
    "        -0.10400663, -0.10380812, -0.10364054, -0.12874513, -0.10992332,\n",
    "        -0.10609515, -0.10436414, -0.10329593, -0.10280795, -0.10236371,\n",
    "        -0.10219405, -0.10181112, -0.1016188 , -0.10156561, -0.10122269,\n",
    "        -0.10140834, -0.10112594, -0.12289486, -0.10718531, -0.10398752,\n",
    "        -0.10265176, -0.10181659, -0.10130458, -0.10102758, -0.10112893,\n",
    "        -0.10066061, -0.10054435, -0.10054849, -0.10027654, -0.10051036,\n",
    "        -0.10031876, -0.11938819, -0.10543414, -0.10260638, -0.10148773,\n",
    "        -0.1007529 , -0.10026771, -0.10011057, -0.10026763, -0.1000013 ,\n",
    "        -0.09985978, -0.09997405, -0.09972204, -0.09997771, -0.09992795]),\n",
    " 'mean_test_score': array([-0.18516163, -0.1509184 , -0.14212605, -0.13757363, -0.13475344,\n",
    "        -0.13268018, -0.13131359, -0.13015545, -0.12924954, -0.12854353,\n",
    "        -0.12785633, -0.12724484, -0.12681727, -0.1264397 , -0.14126302,\n",
    "        -0.11771261, -0.11264773, -0.11007156, -0.10854529, -0.10757436,\n",
    "        -0.10685635, -0.10631497, -0.1058347 , -0.10558864, -0.10523888,\n",
    "        -0.10487555, -0.10463457, -0.10458056, -0.13050694, -0.1110554 ,\n",
    "        -0.10710463, -0.10539622, -0.10430077, -0.10368948, -0.10320858,\n",
    "        -0.10287817, -0.10256473, -0.10247174, -0.10229774, -0.10199984,\n",
    "        -0.10195225, -0.1018892 , -0.12448287, -0.10798309, -0.10477619,\n",
    "        -0.10342915, -0.10254076, -0.1021219 , -0.10182107, -0.10167776,\n",
    "        -0.1013969 , -0.10130489, -0.10124681, -0.10098773, -0.10103518,\n",
    "        -0.10103789, -0.12096733, -0.10625011, -0.10340778, -0.10217851,\n",
    "        -0.10141744, -0.10100576, -0.10086203, -0.10076596, -0.10061811,\n",
    "        -0.10056405, -0.10061002, -0.10037989, -0.10050995, -0.10054544]),\n",
    " 'std_test_score': array([0.0013048 , 0.00100353, 0.00104013, 0.00100774, 0.00104192,\n",
    "        0.00084013, 0.00087   , 0.00100192, 0.00098877, 0.00097285,\n",
    "        0.0009767 , 0.00093863, 0.00097311, 0.00096027, 0.00144719,\n",
    "        0.0008899 , 0.00095507, 0.00086151, 0.00079936, 0.00073648,\n",
    "        0.00063289, 0.00063468, 0.00068816, 0.00076416, 0.00065407,\n",
    "        0.00063338, 0.00059051, 0.00068976, 0.0013039 , 0.00086047,\n",
    "        0.00071803, 0.00073013, 0.0007137 , 0.00064359, 0.00061275,\n",
    "        0.0004844 , 0.00058242, 0.00062586, 0.00055424, 0.0005854 ,\n",
    "        0.00039597, 0.00054398, 0.00116191, 0.00063992, 0.0005634 ,\n",
    "        0.00055068, 0.000529  , 0.00058766, 0.00056798, 0.0003926 ,\n",
    "        0.00057391, 0.00055202, 0.00052792, 0.00052646, 0.0003864 ,\n",
    "        0.00051432, 0.00115198, 0.00061087, 0.00056696, 0.00049075,\n",
    "        0.00048219, 0.00054601, 0.00055825, 0.0003535 , 0.00048104,\n",
    "        0.00052614, 0.00050269, 0.00049655, 0.00038731, 0.00044758]),\n",
    " 'rank_test_score': array([70, 69, 68, 66, 65, 64, 63, 61, 60, 59, 58, 57, 56, 55, 67, 52, 51,\n",
    "        49, 48, 46, 44, 43, 41, 40, 38, 37, 35, 34, 62, 50, 45, 39, 33, 32,\n",
    "        29, 28, 27, 25, 24, 21, 20, 19, 54, 47, 36, 31, 26, 22, 18, 17, 15,\n",
    "        14, 13,  9, 11, 12, 53, 42, 30, 23, 16, 10,  8,  7,  6,  4,  5,  1,\n",
    "         2,  3], dtype=int32)}\n"
   ]
  },
  {
   "cell_type": "code",
   "execution_count": 159,
   "metadata": {},
   "outputs": [
    {
     "data": {
      "text/plain": [
       "{'n_estimators': 370, 'num_leaves': 845}"
      ]
     },
     "execution_count": 159,
     "metadata": {},
     "output_type": "execute_result"
    }
   ],
   "source": [
    "gridSearchCV.best_params_"
   ]
  },
  {
   "cell_type": "raw",
   "metadata": {},
   "source": [
    "{'n_estimators': 370, 'num_leaves': 845}"
   ]
  },
  {
   "cell_type": "code",
   "execution_count": null,
   "metadata": {},
   "outputs": [],
   "source": [
    "#Correrlo con {'n_estimators': 370, 'num_leaves': 845} y los parametros anteriores"
   ]
  },
  {
   "cell_type": "code",
   "execution_count": 160,
   "metadata": {},
   "outputs": [
    {
     "data": {
      "text/plain": [
       "-0.10037989135131214"
      ]
     },
     "execution_count": 160,
     "metadata": {},
     "output_type": "execute_result"
    }
   ],
   "source": [
    "gridSearchCV.best_score_"
   ]
  },
  {
   "cell_type": "raw",
   "metadata": {},
   "source": [
    "0.10037989135131214"
   ]
  },
  {
   "cell_type": "code",
   "execution_count": 161,
   "metadata": {},
   "outputs": [
    {
     "data": {
      "text/plain": [
       "0.3117647022594891"
      ]
     },
     "execution_count": 161,
     "metadata": {},
     "output_type": "execute_result"
    }
   ],
   "source": [
    "RMSE(gridSearchCV.predict(X_test_n),y_test_log)"
   ]
  },
  {
   "cell_type": "raw",
   "metadata": {},
   "source": [
    "0.3117647022594891"
   ]
  },
  {
   "cell_type": "code",
   "execution_count": 162,
   "metadata": {},
   "outputs": [
    {
     "data": {
      "text/plain": [
       "0.21033512994948192"
      ]
     },
     "execution_count": 162,
     "metadata": {},
     "output_type": "execute_result"
    }
   ],
   "source": [
    "RMSE(gridSearchCV.predict(X_train_n),y_train_log)"
   ]
  },
  {
   "cell_type": "raw",
   "metadata": {},
   "source": [
    "0.21033512994948192"
   ]
  },
  {
   "cell_type": "code",
   "execution_count": null,
   "metadata": {},
   "outputs": [],
   "source": [
    "#Se puede ver un overfitteo en el set de train"
   ]
  },
  {
   "cell_type": "code",
   "execution_count": null,
   "metadata": {},
   "outputs": [],
   "source": [
    "#Finalmente los parametros son"
   ]
  },
  {
   "cell_type": "code",
   "execution_count": 14,
   "metadata": {},
   "outputs": [],
   "source": [
    "model = LGBMRegressor( \n",
    "    boosting_type=\"gbdt\",\n",
    "    objective='regression',\n",
    "    is_unbalance=True, \n",
    "    random_state=10, \n",
    "    n_estimators=370,\n",
    "    num_leaves=845, \n",
    "    max_depth=25,\n",
    "    feature_fraction=0.5,  \n",
    "    bagging_fraction=0.8, \n",
    "    bagging_freq=15, \n",
    "    learning_rate=0.05,    \n",
    ")"
   ]
  },
  {
   "cell_type": "code",
   "execution_count": 15,
   "metadata": {},
   "outputs": [
    {
     "name": "stdout",
     "output_type": "stream",
     "text": [
      "CPU times: user 1min 48s, sys: 710 ms, total: 1min 49s\n",
      "Wall time: 14.5 s\n"
     ]
    },
    {
     "data": {
      "text/plain": [
       "LGBMRegressor(bagging_fraction=0.8, bagging_freq=15, boosting_type='gbdt',\n",
       "              class_weight=None, colsample_bytree=1.0, feature_fraction=0.5,\n",
       "              importance_type='split', is_unbalance=True, learning_rate=0.05,\n",
       "              max_depth=25, min_child_samples=20, min_child_weight=0.001,\n",
       "              min_split_gain=0.0, n_estimators=370, n_jobs=-1, num_leaves=845,\n",
       "              objective='regression', random_state=10, reg_alpha=0.0,\n",
       "              reg_lambda=0.0, silent=True, subsample=1.0,\n",
       "              subsample_for_bin=200000, subsample_freq=0)"
      ]
     },
     "execution_count": 15,
     "metadata": {},
     "output_type": "execute_result"
    }
   ],
   "source": [
    "%time model.fit(X_train_n, y_train_log)"
   ]
  },
  {
   "cell_type": "code",
   "execution_count": 16,
   "metadata": {},
   "outputs": [],
   "source": [
    "y_train_predict = model.predict(X_train_n)\n",
    "y_test_predict = model.predict(X_test_n)\n",
    "y_submit_predict = model.predict(X_submit_n)"
   ]
  },
  {
   "cell_type": "code",
   "execution_count": 17,
   "metadata": {},
   "outputs": [
    {
     "name": "stdout",
     "output_type": "stream",
     "text": [
      "0.21073924704181274\n"
     ]
    }
   ],
   "source": [
    "rmse_train=RMSE(y_train_log,y_train_predict)\n",
    "print(rmse_train)"
   ]
  },
  {
   "cell_type": "code",
   "execution_count": 18,
   "metadata": {},
   "outputs": [
    {
     "name": "stdout",
     "output_type": "stream",
     "text": [
      "0.3114459403799977\n"
     ]
    }
   ],
   "source": [
    "rmse_test=RMSE(y_test_log,y_test_predict)\n",
    "print(rmse_test)"
   ]
  },
  {
   "cell_type": "code",
   "execution_count": 19,
   "metadata": {},
   "outputs": [],
   "source": [
    "serie_submit = pd.Series(data=np.exp(y_submit_predict),index=X_submit.index,name='target')"
   ]
  },
  {
   "cell_type": "code",
   "execution_count": 21,
   "metadata": {},
   "outputs": [
    {
     "data": {
      "text/html": [
       "<div>\n",
       "<style scoped>\n",
       "    .dataframe tbody tr th:only-of-type {\n",
       "        vertical-align: middle;\n",
       "    }\n",
       "\n",
       "    .dataframe tbody tr th {\n",
       "        vertical-align: top;\n",
       "    }\n",
       "\n",
       "    .dataframe thead th {\n",
       "        text-align: right;\n",
       "    }\n",
       "</style>\n",
       "<table border=\"1\" class=\"dataframe\">\n",
       "  <thead>\n",
       "    <tr style=\"text-align: right;\">\n",
       "      <th></th>\n",
       "      <th>id</th>\n",
       "      <th>target</th>\n",
       "    </tr>\n",
       "  </thead>\n",
       "  <tbody>\n",
       "    <tr>\n",
       "      <th>0</th>\n",
       "      <td>4941</td>\n",
       "      <td>4.025212e+06</td>\n",
       "    </tr>\n",
       "    <tr>\n",
       "      <th>1</th>\n",
       "      <td>51775</td>\n",
       "      <td>8.652843e+05</td>\n",
       "    </tr>\n",
       "    <tr>\n",
       "      <th>2</th>\n",
       "      <td>115253</td>\n",
       "      <td>2.628328e+06</td>\n",
       "    </tr>\n",
       "    <tr>\n",
       "      <th>3</th>\n",
       "      <td>299321</td>\n",
       "      <td>1.144888e+06</td>\n",
       "    </tr>\n",
       "    <tr>\n",
       "      <th>4</th>\n",
       "      <td>173570</td>\n",
       "      <td>5.461169e+05</td>\n",
       "    </tr>\n",
       "  </tbody>\n",
       "</table>\n",
       "</div>"
      ],
      "text/plain": [
       "       id        target\n",
       "0    4941  4.025212e+06\n",
       "1   51775  8.652843e+05\n",
       "2  115253  2.628328e+06\n",
       "3  299321  1.144888e+06\n",
       "4  173570  5.461169e+05"
      ]
     },
     "execution_count": 21,
     "metadata": {},
     "output_type": "execute_result"
    }
   ],
   "source": [
    "df_entrega = serie_submit.reset_index()\n",
    "df_entrega.head()"
   ]
  },
  {
   "cell_type": "code",
   "execution_count": 22,
   "metadata": {},
   "outputs": [],
   "source": [
    "df_entrega.to_csv('data/submitLGBMfix.csv',index=False)"
   ]
  },
  {
   "cell_type": "code",
   "execution_count": null,
   "metadata": {},
   "outputs": [],
   "source": []
  }
 ],
 "metadata": {
  "kernelspec": {
   "display_name": "Python 3",
   "language": "python",
   "name": "python3"
  },
  "language_info": {
   "codemirror_mode": {
    "name": "ipython",
    "version": 3
   },
   "file_extension": ".py",
   "mimetype": "text/x-python",
   "name": "python",
   "nbconvert_exporter": "python",
   "pygments_lexer": "ipython3",
   "version": "3.7.3"
  }
 },
 "nbformat": 4,
 "nbformat_minor": 2
}
