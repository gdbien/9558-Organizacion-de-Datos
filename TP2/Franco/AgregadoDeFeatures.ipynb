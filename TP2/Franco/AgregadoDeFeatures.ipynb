{
 "cells": [
  {
   "cell_type": "code",
   "execution_count": 1,
   "metadata": {},
   "outputs": [],
   "source": [
    "%matplotlib inline\n",
    "import numpy as np\n",
    "import pandas as pd"
   ]
  },
  {
   "cell_type": "code",
   "execution_count": 2,
   "metadata": {},
   "outputs": [],
   "source": [
    "#Cargo los sets\n",
    "X_train = pd.read_csv('data/X_train_ohc.csv', dtype={'id':'int',\\\n",
    "                                           'tipodepropiedad':'category',\\\n",
    "                                           'ciudad':'category', 'provincia':'category',\\\n",
    "                                           'antiguedad':'float', 'habitaciones':'float',\\\n",
    "                                           'garages':'float','banos':'float',\\\n",
    "                                           'metroscubiertos':'float', 'metrostotales':'float',\\\n",
    "                                           'idzona':'float',\\\n",
    "                                           'gimnasio':'bool', 'usosmultiples':'bool',\\\n",
    "                                           'piscina':'bool', 'escuelascercanas':'bool',\\\n",
    "                                           'centroscomercialescercanos':'bool'\\\n",
    "                                           }, index_col='id')\n",
    "X_test = pd.read_csv('data/X_test_ohc.csv', dtype={'id':'int',\\\n",
    "                                           'tipodepropiedad':'category',\\\n",
    "                                           'ciudad':'category', 'provincia':'category',\\\n",
    "                                           'antiguedad':'float', 'habitaciones':'float',\\\n",
    "                                           'garages':'float','banos':'float',\\\n",
    "                                           'metroscubiertos':'float', 'metrostotales':'float',\\\n",
    "                                           'idzona':'float',\\\n",
    "                                           'gimnasio':'bool', 'usosmultiples':'bool',\\\n",
    "                                           'piscina':'bool', 'escuelascercanas':'bool',\\\n",
    "                                           'centroscomercialescercanos':'bool'\\\n",
    "                                           }, index_col='id')"
   ]
  },
  {
   "cell_type": "code",
   "execution_count": 3,
   "metadata": {},
   "outputs": [],
   "source": [
    "X_submit = pd.read_csv('data/X_submit_ohc.csv', dtype={'id':'int',\\\n",
    "                                           'tipodepropiedad':'category',\\\n",
    "                                           'ciudad':'category', 'provincia':'category',\\\n",
    "                                           'antiguedad':'float', 'habitaciones':'float',\\\n",
    "                                           'garages':'float','banos':'float',\\\n",
    "                                           'metroscubiertos':'float', 'metrostotales':'float',\\\n",
    "                                           'idzona':'float',\\\n",
    "                                           'gimnasio':'bool', 'usosmultiples':'bool',\\\n",
    "                                           'piscina':'bool', 'escuelascercanas':'bool',\\\n",
    "                                           'centroscomercialescercanos':'bool'\\\n",
    "                                           }, index_col='id')"
   ]
  },
  {
   "cell_type": "code",
   "execution_count": 4,
   "metadata": {},
   "outputs": [],
   "source": [
    "#Dado que separe los archivos de OHC y agregado de features,\n",
    "#no tengo mas la columna de  tipo de propiedad,\n",
    "#etc, por lo tanto voy a tener que cargar el original"
   ]
  },
  {
   "cell_type": "code",
   "execution_count": 5,
   "metadata": {},
   "outputs": [],
   "source": [
    "#Cargo los sets\n",
    "X_train_cols = pd.read_csv('data/X_train.csv', dtype={'id':'int',\\\n",
    "                                           'tipodepropiedad':'category',\\\n",
    "                                           'ciudad':'category', 'provincia':'category',\\\n",
    "                                           'antiguedad':'float', 'habitaciones':'float',\\\n",
    "                                           'garages':'float','banos':'float',\\\n",
    "                                           'metroscubiertos':'float', 'metrostotales':'float',\\\n",
    "                                           'idzona':'float',\\\n",
    "                                           'gimnasio':'bool', 'usosmultiples':'bool',\\\n",
    "                                           'piscina':'bool', 'escuelascercanas':'bool',\\\n",
    "                                           'centroscomercialescercanos':'bool'\\\n",
    "                                           }, index_col='id')\n",
    "X_test_cols = pd.read_csv('data/X_test.csv', dtype={'id':'int',\\\n",
    "                                           'tipodepropiedad':'category',\\\n",
    "                                           'ciudad':'category', 'provincia':'category',\\\n",
    "                                           'antiguedad':'float', 'habitaciones':'float',\\\n",
    "                                           'garages':'float','banos':'float',\\\n",
    "                                           'metroscubiertos':'float', 'metrostotales':'float',\\\n",
    "                                           'idzona':'float',\\\n",
    "                                           'gimnasio':'bool', 'usosmultiples':'bool',\\\n",
    "                                           'piscina':'bool', 'escuelascercanas':'bool',\\\n",
    "                                           'centroscomercialescercanos':'bool'\\\n",
    "                                           }, index_col='id')"
   ]
  },
  {
   "cell_type": "code",
   "execution_count": 6,
   "metadata": {},
   "outputs": [],
   "source": [
    "X_submit_cols = pd.read_csv('data/X_submit.csv', dtype={'id':'int',\\\n",
    "                                           'tipodepropiedad':'category',\\\n",
    "                                           'ciudad':'category', 'provincia':'category',\\\n",
    "                                           'antiguedad':'float', 'habitaciones':'float',\\\n",
    "                                           'garages':'float','banos':'float',\\\n",
    "                                           'metroscubiertos':'float', 'metrostotales':'float',\\\n",
    "                                           'idzona':'float',\\\n",
    "                                           'gimnasio':'bool', 'usosmultiples':'bool',\\\n",
    "                                           'piscina':'bool', 'escuelascercanas':'bool',\\\n",
    "                                           'centroscomercialescercanos':'bool'\\\n",
    "                                           }, index_col='id')"
   ]
  },
  {
   "cell_type": "code",
   "execution_count": 7,
   "metadata": {},
   "outputs": [],
   "source": [
    "lista_features = ['sum', 'mean', 'std', 'min', 'max','median']\n",
    "\n",
    "lista_numericas = ['antiguedad','habitaciones','garages','banos','metroscubiertos','metrostotales']"
   ]
  },
  {
   "cell_type": "code",
   "execution_count": 8,
   "metadata": {},
   "outputs": [],
   "source": [
    "nombre = 'pro_ciu_tip'\n",
    "for numerica in lista_numericas:\n",
    "    for feature in lista_features:\n",
    "        nombre_col = nombre + '_' + numerica + '_' + feature\n",
    "        X_train[nombre_col] = X_train_cols.groupby(['provincia','ciudad','tipodepropiedad'])[numerica].transform(feature)\n",
    "        X_test[nombre_col] = X_test_cols.groupby(['provincia','ciudad','tipodepropiedad'])[numerica].transform(feature)\n",
    "        X_submit[nombre_col] = X_submit_cols.groupby(['provincia','ciudad','tipodepropiedad'])[numerica].transform(feature)"
   ]
  },
  {
   "cell_type": "code",
   "execution_count": 9,
   "metadata": {},
   "outputs": [
    {
     "data": {
      "text/plain": [
       "(179691, 920)"
      ]
     },
     "execution_count": 9,
     "metadata": {},
     "output_type": "execute_result"
    }
   ],
   "source": [
    "X_train.shape"
   ]
  },
  {
   "cell_type": "code",
   "execution_count": 10,
   "metadata": {},
   "outputs": [
    {
     "data": {
      "text/plain": [
       "(59897, 920)"
      ]
     },
     "execution_count": 10,
     "metadata": {},
     "output_type": "execute_result"
    }
   ],
   "source": [
    "X_test.shape"
   ]
  },
  {
   "cell_type": "code",
   "execution_count": 11,
   "metadata": {},
   "outputs": [
    {
     "data": {
      "text/plain": [
       "antiguedad                                           0\n",
       "habitaciones                                         0\n",
       "garages                                              0\n",
       "banos                                                0\n",
       "metroscubiertos                                      0\n",
       "metrostotales                                        0\n",
       "idzona                                               0\n",
       "gimnasio                                             0\n",
       "usosmultiples                                        0\n",
       "piscina                                              0\n",
       "escuelascercanas                                     0\n",
       "centroscomercialescercanos                           0\n",
       "año                                                  0\n",
       "mes                                                  0\n",
       "dia                                                  0\n",
       "tipodepropiedad__Apartamento                         0\n",
       "tipodepropiedad__Bodega comercial                    0\n",
       "tipodepropiedad__Casa                                0\n",
       "tipodepropiedad__Casa en condominio                  0\n",
       "tipodepropiedad__Casa uso de suelo                   0\n",
       "tipodepropiedad__Departamento Compartido             0\n",
       "tipodepropiedad__Duplex                              0\n",
       "tipodepropiedad__Edificio                            0\n",
       "tipodepropiedad__Hospedaje                           0\n",
       "tipodepropiedad__Huerta                              0\n",
       "tipodepropiedad__Inmuebles productivos urbanos       0\n",
       "tipodepropiedad__Local Comercial                     0\n",
       "tipodepropiedad__Local en centro comercial           0\n",
       "tipodepropiedad__Lote                                0\n",
       "tipodepropiedad__Nave industrial                     0\n",
       "                                                  ... \n",
       "pro_ciu_tip_habitaciones_sum                         0\n",
       "pro_ciu_tip_habitaciones_mean                        0\n",
       "pro_ciu_tip_habitaciones_std                      1118\n",
       "pro_ciu_tip_habitaciones_min                         0\n",
       "pro_ciu_tip_habitaciones_max                         0\n",
       "pro_ciu_tip_habitaciones_median                      0\n",
       "pro_ciu_tip_garages_sum                              0\n",
       "pro_ciu_tip_garages_mean                             0\n",
       "pro_ciu_tip_garages_std                           1118\n",
       "pro_ciu_tip_garages_min                              0\n",
       "pro_ciu_tip_garages_max                              0\n",
       "pro_ciu_tip_garages_median                           0\n",
       "pro_ciu_tip_banos_sum                                0\n",
       "pro_ciu_tip_banos_mean                               0\n",
       "pro_ciu_tip_banos_std                             1118\n",
       "pro_ciu_tip_banos_min                                0\n",
       "pro_ciu_tip_banos_max                                0\n",
       "pro_ciu_tip_banos_median                             0\n",
       "pro_ciu_tip_metroscubiertos_sum                      0\n",
       "pro_ciu_tip_metroscubiertos_mean                     0\n",
       "pro_ciu_tip_metroscubiertos_std                   1118\n",
       "pro_ciu_tip_metroscubiertos_min                      0\n",
       "pro_ciu_tip_metroscubiertos_max                      0\n",
       "pro_ciu_tip_metroscubiertos_median                   0\n",
       "pro_ciu_tip_metrostotales_sum                        0\n",
       "pro_ciu_tip_metrostotales_mean                       0\n",
       "pro_ciu_tip_metrostotales_std                     1118\n",
       "pro_ciu_tip_metrostotales_min                        0\n",
       "pro_ciu_tip_metrostotales_max                        0\n",
       "pro_ciu_tip_metrostotales_median                     0\n",
       "Length: 920, dtype: int64"
      ]
     },
     "execution_count": 11,
     "metadata": {},
     "output_type": "execute_result"
    }
   ],
   "source": [
    "X_train.isnull().sum()"
   ]
  },
  {
   "cell_type": "code",
   "execution_count": 12,
   "metadata": {},
   "outputs": [
    {
     "data": {
      "text/plain": [
       "antiguedad                                          0\n",
       "habitaciones                                        0\n",
       "garages                                             0\n",
       "banos                                               0\n",
       "metroscubiertos                                     0\n",
       "metrostotales                                       0\n",
       "idzona                                              0\n",
       "gimnasio                                            0\n",
       "usosmultiples                                       0\n",
       "piscina                                             0\n",
       "escuelascercanas                                    0\n",
       "centroscomercialescercanos                          0\n",
       "año                                                 0\n",
       "mes                                                 0\n",
       "dia                                                 0\n",
       "tipodepropiedad__Apartamento                        0\n",
       "tipodepropiedad__Bodega comercial                   0\n",
       "tipodepropiedad__Casa                               0\n",
       "tipodepropiedad__Casa en condominio                 0\n",
       "tipodepropiedad__Casa uso de suelo                  0\n",
       "tipodepropiedad__Departamento Compartido            0\n",
       "tipodepropiedad__Duplex                             0\n",
       "tipodepropiedad__Edificio                           0\n",
       "tipodepropiedad__Hospedaje                          0\n",
       "tipodepropiedad__Huerta                             0\n",
       "tipodepropiedad__Inmuebles productivos urbanos      0\n",
       "tipodepropiedad__Local Comercial                    0\n",
       "tipodepropiedad__Local en centro comercial          0\n",
       "tipodepropiedad__Lote                               0\n",
       "tipodepropiedad__Nave industrial                    0\n",
       "                                                 ... \n",
       "pro_ciu_tip_habitaciones_sum                        0\n",
       "pro_ciu_tip_habitaciones_mean                       0\n",
       "pro_ciu_tip_habitaciones_std                      760\n",
       "pro_ciu_tip_habitaciones_min                        0\n",
       "pro_ciu_tip_habitaciones_max                        0\n",
       "pro_ciu_tip_habitaciones_median                     0\n",
       "pro_ciu_tip_garages_sum                             0\n",
       "pro_ciu_tip_garages_mean                            0\n",
       "pro_ciu_tip_garages_std                           760\n",
       "pro_ciu_tip_garages_min                             0\n",
       "pro_ciu_tip_garages_max                             0\n",
       "pro_ciu_tip_garages_median                          0\n",
       "pro_ciu_tip_banos_sum                               0\n",
       "pro_ciu_tip_banos_mean                              0\n",
       "pro_ciu_tip_banos_std                             760\n",
       "pro_ciu_tip_banos_min                               0\n",
       "pro_ciu_tip_banos_max                               0\n",
       "pro_ciu_tip_banos_median                            0\n",
       "pro_ciu_tip_metroscubiertos_sum                     0\n",
       "pro_ciu_tip_metroscubiertos_mean                    0\n",
       "pro_ciu_tip_metroscubiertos_std                   760\n",
       "pro_ciu_tip_metroscubiertos_min                     0\n",
       "pro_ciu_tip_metroscubiertos_max                     0\n",
       "pro_ciu_tip_metroscubiertos_median                  0\n",
       "pro_ciu_tip_metrostotales_sum                       0\n",
       "pro_ciu_tip_metrostotales_mean                      0\n",
       "pro_ciu_tip_metrostotales_std                     760\n",
       "pro_ciu_tip_metrostotales_min                       0\n",
       "pro_ciu_tip_metrostotales_max                       0\n",
       "pro_ciu_tip_metrostotales_median                    0\n",
       "Length: 920, dtype: int64"
      ]
     },
     "execution_count": 12,
     "metadata": {},
     "output_type": "execute_result"
    }
   ],
   "source": [
    "X_test.isnull().sum()"
   ]
  },
  {
   "cell_type": "markdown",
   "metadata": {},
   "source": [
    "IMPORTANTE: La generación de features que involucren varios registros (ejemplo; la media de baños por tipo de propiedad, etc) se deben hacer por separado en cada set,\n",
    "ya que estaria leakeando información de cierta manera."
   ]
  },
  {
   "cell_type": "code",
   "execution_count": 13,
   "metadata": {},
   "outputs": [],
   "source": [
    "for numerica in lista_numericas:\n",
    "    for feature in lista_features:\n",
    "        nombre_col = numerica + '_' + feature\n",
    "        if feature == 'sum':\n",
    "            X_train[nombre_col] = X_train[numerica].sum()\n",
    "            X_test[nombre_col] = X_test[numerica].sum()\n",
    "            X_submit[nombre_col] = X_submit[numerica].sum()\n",
    "        if feature == 'mean':\n",
    "            X_train[nombre_col] = X_train[numerica].mean()\n",
    "            X_test[nombre_col] = X_test[numerica].mean()\n",
    "            X_submit[nombre_col] = X_submit[numerica].mean()\n",
    "        if feature == 'std':\n",
    "            X_train[nombre_col] = X_train[numerica].std()\n",
    "            X_test[nombre_col] = X_test[numerica].std()\n",
    "            X_submit[nombre_col] = X_submit[numerica].std()\n",
    "        if feature == 'min':\n",
    "            X_train[nombre_col] = X_train[numerica].min()\n",
    "            X_test[nombre_col] = X_test[numerica].min()\n",
    "            X_submit[nombre_col] = X_submit[numerica].min()\n",
    "        if feature == 'max':\n",
    "            X_train[nombre_col] = X_train[numerica].max()\n",
    "            X_test[nombre_col] = X_test[numerica].max()\n",
    "            X_submit[nombre_col] = X_submit[numerica].max()\n",
    "        if feature == 'median':\n",
    "            X_train[nombre_col] = X_train[numerica].median()\n",
    "            X_test[nombre_col] = X_test[numerica].median()\n",
    "            X_submit[nombre_col] = X_submit[numerica].median()\n"
   ]
  },
  {
   "cell_type": "code",
   "execution_count": 14,
   "metadata": {},
   "outputs": [
    {
     "data": {
      "text/plain": [
       "antiguedad                                        float64\n",
       "habitaciones                                      float64\n",
       "garages                                           float64\n",
       "banos                                             float64\n",
       "metroscubiertos                                   float64\n",
       "metrostotales                                     float64\n",
       "idzona                                            float64\n",
       "gimnasio                                             bool\n",
       "usosmultiples                                        bool\n",
       "piscina                                              bool\n",
       "escuelascercanas                                     bool\n",
       "centroscomercialescercanos                           bool\n",
       "año                                                 int64\n",
       "mes                                                 int64\n",
       "dia                                                 int64\n",
       "tipodepropiedad__Apartamento                        int64\n",
       "tipodepropiedad__Bodega comercial                   int64\n",
       "tipodepropiedad__Casa                               int64\n",
       "tipodepropiedad__Casa en condominio                 int64\n",
       "tipodepropiedad__Casa uso de suelo                  int64\n",
       "tipodepropiedad__Departamento Compartido            int64\n",
       "tipodepropiedad__Duplex                             int64\n",
       "tipodepropiedad__Edificio                           int64\n",
       "tipodepropiedad__Hospedaje                          int64\n",
       "tipodepropiedad__Huerta                             int64\n",
       "tipodepropiedad__Inmuebles productivos urbanos      int64\n",
       "tipodepropiedad__Local Comercial                    int64\n",
       "tipodepropiedad__Local en centro comercial          int64\n",
       "tipodepropiedad__Lote                               int64\n",
       "tipodepropiedad__Nave industrial                    int64\n",
       "                                                   ...   \n",
       "habitaciones_sum                                  float64\n",
       "habitaciones_mean                                 float64\n",
       "habitaciones_std                                  float64\n",
       "habitaciones_min                                  float64\n",
       "habitaciones_max                                  float64\n",
       "habitaciones_median                               float64\n",
       "garages_sum                                       float64\n",
       "garages_mean                                      float64\n",
       "garages_std                                       float64\n",
       "garages_min                                       float64\n",
       "garages_max                                       float64\n",
       "garages_median                                    float64\n",
       "banos_sum                                         float64\n",
       "banos_mean                                        float64\n",
       "banos_std                                         float64\n",
       "banos_min                                         float64\n",
       "banos_max                                         float64\n",
       "banos_median                                      float64\n",
       "metroscubiertos_sum                               float64\n",
       "metroscubiertos_mean                              float64\n",
       "metroscubiertos_std                               float64\n",
       "metroscubiertos_min                               float64\n",
       "metroscubiertos_max                               float64\n",
       "metroscubiertos_median                            float64\n",
       "metrostotales_sum                                 float64\n",
       "metrostotales_mean                                float64\n",
       "metrostotales_std                                 float64\n",
       "metrostotales_min                                 float64\n",
       "metrostotales_max                                 float64\n",
       "metrostotales_median                              float64\n",
       "Length: 956, dtype: object"
      ]
     },
     "execution_count": 14,
     "metadata": {},
     "output_type": "execute_result"
    }
   ],
   "source": [
    "X_train.dtypes"
   ]
  },
  {
   "cell_type": "code",
   "execution_count": 15,
   "metadata": {},
   "outputs": [
    {
     "data": {
      "text/plain": [
       "antiguedad                                        0\n",
       "habitaciones                                      0\n",
       "garages                                           0\n",
       "banos                                             0\n",
       "metroscubiertos                                   0\n",
       "metrostotales                                     0\n",
       "idzona                                            0\n",
       "gimnasio                                          0\n",
       "usosmultiples                                     0\n",
       "piscina                                           0\n",
       "escuelascercanas                                  0\n",
       "centroscomercialescercanos                        0\n",
       "año                                               0\n",
       "mes                                               0\n",
       "dia                                               0\n",
       "tipodepropiedad__Apartamento                      0\n",
       "tipodepropiedad__Bodega comercial                 0\n",
       "tipodepropiedad__Casa                             0\n",
       "tipodepropiedad__Casa en condominio               0\n",
       "tipodepropiedad__Casa uso de suelo                0\n",
       "tipodepropiedad__Departamento Compartido          0\n",
       "tipodepropiedad__Duplex                           0\n",
       "tipodepropiedad__Edificio                         0\n",
       "tipodepropiedad__Hospedaje                        0\n",
       "tipodepropiedad__Huerta                           0\n",
       "tipodepropiedad__Inmuebles productivos urbanos    0\n",
       "tipodepropiedad__Local Comercial                  0\n",
       "tipodepropiedad__Local en centro comercial        0\n",
       "tipodepropiedad__Lote                             0\n",
       "tipodepropiedad__Nave industrial                  0\n",
       "                                                 ..\n",
       "habitaciones_sum                                  0\n",
       "habitaciones_mean                                 0\n",
       "habitaciones_std                                  0\n",
       "habitaciones_min                                  0\n",
       "habitaciones_max                                  0\n",
       "habitaciones_median                               0\n",
       "garages_sum                                       0\n",
       "garages_mean                                      0\n",
       "garages_std                                       0\n",
       "garages_min                                       0\n",
       "garages_max                                       0\n",
       "garages_median                                    0\n",
       "banos_sum                                         0\n",
       "banos_mean                                        0\n",
       "banos_std                                         0\n",
       "banos_min                                         0\n",
       "banos_max                                         0\n",
       "banos_median                                      0\n",
       "metroscubiertos_sum                               0\n",
       "metroscubiertos_mean                              0\n",
       "metroscubiertos_std                               0\n",
       "metroscubiertos_min                               0\n",
       "metroscubiertos_max                               0\n",
       "metroscubiertos_median                            0\n",
       "metrostotales_sum                                 0\n",
       "metrostotales_mean                                0\n",
       "metrostotales_std                                 0\n",
       "metrostotales_min                                 0\n",
       "metrostotales_max                                 0\n",
       "metrostotales_median                              0\n",
       "Length: 956, dtype: int64"
      ]
     },
     "execution_count": 15,
     "metadata": {},
     "output_type": "execute_result"
    }
   ],
   "source": [
    "X_train.isnull().sum()"
   ]
  },
  {
   "cell_type": "code",
   "execution_count": 17,
   "metadata": {},
   "outputs": [],
   "source": [
    "#La std en casos donde hay 1 solo valor da NaN, por lo tanto los lleno con 0\n",
    "X_train.replace(np.nan,0,inplace=True)\n",
    "X_test.replace(np.nan,0,inplace=True)\n",
    "X_submit.replace(np.nan,0,inplace=True)"
   ]
  },
  {
   "cell_type": "code",
   "execution_count": 18,
   "metadata": {},
   "outputs": [
    {
     "data": {
      "text/plain": [
       "(179691, 956)"
      ]
     },
     "execution_count": 18,
     "metadata": {},
     "output_type": "execute_result"
    }
   ],
   "source": [
    "X_train.shape"
   ]
  },
  {
   "cell_type": "code",
   "execution_count": 19,
   "metadata": {},
   "outputs": [
    {
     "data": {
      "text/plain": [
       "(60000, 956)"
      ]
     },
     "execution_count": 19,
     "metadata": {},
     "output_type": "execute_result"
    }
   ],
   "source": [
    "X_submit.shape"
   ]
  },
  {
   "cell_type": "code",
   "execution_count": 20,
   "metadata": {},
   "outputs": [],
   "source": [
    "X_train.to_csv('data/X_train_features.csv')\n",
    "X_test.to_csv('data/X_test_features.csv')"
   ]
  },
  {
   "cell_type": "code",
   "execution_count": 21,
   "metadata": {},
   "outputs": [],
   "source": [
    "X_submit.to_csv('data/X_submit_features.csv')"
   ]
  },
  {
   "cell_type": "code",
   "execution_count": 22,
   "metadata": {},
   "outputs": [],
   "source": [
    "#Me acabo de enterar (nunca me paso) que si las variables categoricas estan como\n",
    "#'category' y haces un groupby por ejemplo de groupby(provincia,ciudad) te hace\n",
    "#TODAS las combinaciones y le asigna valores NaN aquellas ciudades que no pertenecen\n",
    "#a esa ciudad (rarisimo), la solucion es pasarlo de category a object, o ponerle\n",
    "#como parametro al groupby (si es que esta en category) \"observed=True\" y ahi si\n",
    "#solo te hace las combinaciones validas."
   ]
  },
  {
   "cell_type": "code",
   "execution_count": null,
   "metadata": {},
   "outputs": [],
   "source": []
  }
 ],
 "metadata": {
  "kernelspec": {
   "display_name": "Python 3",
   "language": "python",
   "name": "python3"
  },
  "language_info": {
   "codemirror_mode": {
    "name": "ipython",
    "version": 3
   },
   "file_extension": ".py",
   "mimetype": "text/x-python",
   "name": "python",
   "nbconvert_exporter": "python",
   "pygments_lexer": "ipython3",
   "version": "3.7.1"
  }
 },
 "nbformat": 4,
 "nbformat_minor": 2
}
