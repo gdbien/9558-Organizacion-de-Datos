{
 "cells": [
  {
   "cell_type": "code",
   "execution_count": 2,
   "metadata": {},
   "outputs": [],
   "source": [
    "from sklearn.neighbors import KNeighborsRegressor\n",
    "from sklearn.metrics import mean_squared_error\n",
    "from sklearn.preprocessing import StandardScaler\n",
    "from sklearn.model_selection import GridSearchCV\n",
    "import pandas as pd\n",
    "import numpy as np"
   ]
  },
  {
   "cell_type": "code",
   "execution_count": 3,
   "metadata": {},
   "outputs": [],
   "source": [
    "#Cargo los sets\n",
    "X_train = pd.read_csv('data/X_train_features.csv', dtype={'id':'int',\\\n",
    "                                           'tipodepropiedad':'category',\\\n",
    "                                           'ciudad':'category', 'provincia':'category',\\\n",
    "                                           'antiguedad':'float', 'habitaciones':'float',\\\n",
    "                                           'garages':'float','banos':'float',\\\n",
    "                                           'metroscubiertos':'float', 'metrostotales':'float',\\\n",
    "                                           'idzona':'float',\\\n",
    "                                           'gimnasio':'bool', 'usosmultiples':'bool',\\\n",
    "                                           'piscina':'bool', 'escuelascercanas':'bool',\\\n",
    "                                           'centroscomercialescercanos':'bool'\\\n",
    "                                           }, index_col='id')\n",
    "y_train = pd.read_csv('data/y_train.csv',header=None,squeeze=True,index_col=0)\n",
    "X_test = pd.read_csv('data/X_test_features.csv', dtype={'id':'int',\\\n",
    "                                           'tipodepropiedad':'category',\\\n",
    "                                           'ciudad':'category', 'provincia':'category',\\\n",
    "                                           'antiguedad':'float', 'habitaciones':'float',\\\n",
    "                                           'garages':'float','banos':'float',\\\n",
    "                                           'metroscubiertos':'float', 'metrostotales':'float',\\\n",
    "                                           'idzona':'float',\\\n",
    "                                           'gimnasio':'bool', 'usosmultiples':'bool',\\\n",
    "                                           'piscina':'bool', 'escuelascercanas':'bool',\\\n",
    "                                           'centroscomercialescercanos':'bool'\\\n",
    "                                           }, index_col='id')\n",
    "y_test = pd.read_csv('data/y_test.csv',header=None,squeeze=True,index_col=0)"
   ]
  },
  {
   "cell_type": "code",
   "execution_count": 4,
   "metadata": {},
   "outputs": [
    {
     "data": {
      "text/plain": [
       "['metroscubiertos',\n",
       " 'banos',\n",
       " 'metrostotales',\n",
       " 'provincia__Distrito Federal',\n",
       " 'idzona']"
      ]
     },
     "execution_count": 4,
     "metadata": {},
     "output_type": "execute_result"
    }
   ],
   "source": [
    "features_n = pd.read_csv('data/features_importancia_tercera_etapa.csv',index_col=0)\\\n",
    "             .head(50).index.tolist()\n",
    "features_n[0:5]"
   ]
  },
  {
   "cell_type": "code",
   "execution_count": 5,
   "metadata": {},
   "outputs": [],
   "source": [
    "X_train_n = X_train[features_n]\n",
    "X_test_n = X_test[features_n]"
   ]
  },
  {
   "cell_type": "code",
   "execution_count": 6,
   "metadata": {},
   "outputs": [
    {
     "data": {
      "text/plain": [
       "50"
      ]
     },
     "execution_count": 6,
     "metadata": {},
     "output_type": "execute_result"
    }
   ],
   "source": [
    "features_numericos = X_train_n.dtypes[X_train.dtypes != \"object\"].index\n",
    "len(features_numericos)\n",
    "#son todas numericas obviamente"
   ]
  },
  {
   "cell_type": "code",
   "execution_count": 7,
   "metadata": {},
   "outputs": [
    {
     "name": "stderr",
     "output_type": "stream",
     "text": [
      "/home/franco/anaconda3/lib/python3.7/site-packages/ipykernel_launcher.py:5: SettingWithCopyWarning: \n",
      "A value is trying to be set on a copy of a slice from a DataFrame.\n",
      "Try using .loc[row_indexer,col_indexer] = value instead\n",
      "\n",
      "See the caveats in the documentation: http://pandas.pydata.org/pandas-docs/stable/user_guide/indexing.html#returning-a-view-versus-a-copy\n",
      "  \"\"\"\n",
      "/home/franco/anaconda3/lib/python3.7/site-packages/ipykernel_launcher.py:9: SettingWithCopyWarning: \n",
      "A value is trying to be set on a copy of a slice from a DataFrame.\n",
      "Try using .loc[row_indexer,col_indexer] = value instead\n",
      "\n",
      "See the caveats in the documentation: http://pandas.pydata.org/pandas-docs/stable/user_guide/indexing.html#returning-a-view-versus-a-copy\n",
      "  if __name__ == '__main__':\n"
     ]
    }
   ],
   "source": [
    "scaler = StandardScaler()\n",
    "\n",
    "scaled = scaler.fit_transform(X_train_n[features_numericos])\n",
    "for i, col in enumerate(features_numericos):\n",
    "    X_train_n[col] = scaled[:, i]\n",
    "\n",
    "scaled = scaler.fit_transform(X_test_n[features_numericos])\n",
    "for i, col in enumerate(features_numericos):\n",
    "    X_test_n[col] = scaled[:, i]"
   ]
  },
  {
   "cell_type": "code",
   "execution_count": 8,
   "metadata": {},
   "outputs": [],
   "source": [
    "def RMSE(actual, pred):\n",
    "    return np.sqrt(mean_squared_error(actual, pred))"
   ]
  },
  {
   "cell_type": "code",
   "execution_count": 10,
   "metadata": {},
   "outputs": [],
   "source": [
    "y_train_log = np.log1p(y_train)\n",
    "y_test_log = np.log1p(y_test)"
   ]
  },
  {
   "cell_type": "code",
   "execution_count": 11,
   "metadata": {},
   "outputs": [],
   "source": [
    "def get_best_score(grid):\n",
    "    \n",
    "    best_score = np.sqrt(-grid.best_score_)\n",
    "    print(best_score)    \n",
    "    print(grid.best_params_)\n",
    "    print(grid.best_estimator_)\n",
    "    \n",
    "    return best_score"
   ]
  },
  {
   "cell_type": "code",
   "execution_count": 13,
   "metadata": {},
   "outputs": [
    {
     "name": "stdout",
     "output_type": "stream",
     "text": [
      "Fitting 2 folds for each of 1 candidates, totalling 2 fits\n"
     ]
    },
    {
     "name": "stderr",
     "output_type": "stream",
     "text": [
      "[Parallel(n_jobs=4)]: Using backend LokyBackend with 4 concurrent workers.\n",
      "[Parallel(n_jobs=4)]: Done   2 out of   2 | elapsed: 13.3min finished\n"
     ]
    },
    {
     "name": "stdout",
     "output_type": "stream",
     "text": [
      "0.41664558477484653\n",
      "{'algorithm': 'auto', 'n_neighbors': 10, 'weights': 'distance'}\n",
      "KNeighborsRegressor(algorithm='auto', leaf_size=30, metric='minkowski',\n",
      "                    metric_params=None, n_jobs=None, n_neighbors=10, p=2,\n",
      "                    weights='distance')\n"
     ]
    }
   ],
   "source": [
    "param_grid = {'n_neighbors' : [10] ,    \n",
    "              'weights' : ['distance'] ,\n",
    "              'algorithm' : ['auto']}\n",
    "\n",
    "nr_cv = 2\n",
    "score_calc = 'neg_mean_squared_error'\n",
    "\n",
    "grid_knn = GridSearchCV(KNeighborsRegressor(), param_grid, cv=nr_cv, refit=True, verbose=1, scoring = score_calc, n_jobs=4)\n",
    "grid_knn.fit(X_train_n, y_train_log)\n",
    "\n",
    "sc_knn = get_best_score(grid_knn)"
   ]
  },
  {
   "cell_type": "code",
   "execution_count": null,
   "metadata": {},
   "outputs": [],
   "source": [
    "y_test_pred_knn = grid_knn.predict(X_test_n)\n",
    "y_train_pred_knn = grid_knn.predict(X_train_n)"
   ]
  },
  {
   "cell_type": "code",
   "execution_count": null,
   "metadata": {},
   "outputs": [],
   "source": [
    "print(\"RMSE Train:\",RMSE(y_train_pred_knn,y_train_log))\n",
    "print(\"RMSE Test:\",RMSE(y_test_pred_knn,y_test_log))"
   ]
  },
  {
   "cell_type": "code",
   "execution_count": null,
   "metadata": {},
   "outputs": [],
   "source": []
  }
 ],
 "metadata": {
  "kernelspec": {
   "display_name": "Python 3",
   "language": "python",
   "name": "python3"
  },
  "language_info": {
   "codemirror_mode": {
    "name": "ipython",
    "version": 3
   },
   "file_extension": ".py",
   "mimetype": "text/x-python",
   "name": "python",
   "nbconvert_exporter": "python",
   "pygments_lexer": "ipython3",
   "version": "3.7.3"
  }
 },
 "nbformat": 4,
 "nbformat_minor": 2
}
