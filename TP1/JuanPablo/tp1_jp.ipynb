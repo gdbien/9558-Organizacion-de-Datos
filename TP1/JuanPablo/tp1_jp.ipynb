{
 "cells": [
  {
   "cell_type": "code",
   "execution_count": 2,
   "metadata": {},
   "outputs": [],
   "source": [
    "%matplotlib inline\n",
    "import numpy as np\n",
    "import pandas as pd\n",
    "import seaborn as sns\n",
    "import matplotlib.pyplot as plt\n",
    "import matplotlib.dates as mdates"
   ]
  },
  {
   "cell_type": "code",
   "execution_count": 28,
   "metadata": {},
   "outputs": [],
   "source": [
    "#Creamos el dataframe a partir del set de datos y les asigno un tipo acorde a las descripciones\n",
    "df = pd.read_csv('train.csv', dtype={'id':'int', 'titulo':'object','descripcion':'object',\\\n",
    "                                           'tipodepropiedad':'category', 'direccion':'object',\\\n",
    "                                           'ciudad':'category', 'provincia':'category',\\\n",
    "                                           'antiguedad':'float', 'habitaciones':'float',\\\n",
    "                                           'garages':'float','banos':'float',\\\n",
    "                                           'metroscubiertos':'float', 'metrostotales':'float',\\\n",
    "                                           'idzona':'float', 'lat':'float', 'lng':'float',\\\n",
    "                                           'gimnasio':'bool', 'usosmultiples':'bool',\\\n",
    "                                           'piscina':'bool', 'escuelascercanas':'bool',\\\n",
    "                                           'centroscomercialescercanos':'bool',\\\n",
    "                                           'precio':'float'}, parse_dates=['fecha'])"
   ]
  },
  {
   "cell_type": "code",
   "execution_count": 3,
   "metadata": {},
   "outputs": [
    {
     "data": {
      "text/plain": [
       "29.573829650878906"
      ]
     },
     "execution_count": 3,
     "metadata": {},
     "output_type": "execute_result"
    }
   ],
   "source": [
    "(df.memory_usage() / (1024 * 1024)).sum()"
   ]
  },
  {
   "cell_type": "code",
   "execution_count": 4,
   "metadata": {},
   "outputs": [
    {
     "data": {
      "text/html": [
       "<div>\n",
       "<style scoped>\n",
       "    .dataframe tbody tr th:only-of-type {\n",
       "        vertical-align: middle;\n",
       "    }\n",
       "\n",
       "    .dataframe tbody tr th {\n",
       "        vertical-align: top;\n",
       "    }\n",
       "\n",
       "    .dataframe thead th {\n",
       "        text-align: right;\n",
       "    }\n",
       "</style>\n",
       "<table border=\"1\" class=\"dataframe\">\n",
       "  <thead>\n",
       "    <tr style=\"text-align: right;\">\n",
       "      <th></th>\n",
       "      <th>id</th>\n",
       "      <th>titulo</th>\n",
       "      <th>descripcion</th>\n",
       "      <th>tipodepropiedad</th>\n",
       "      <th>direccion</th>\n",
       "      <th>ciudad</th>\n",
       "      <th>provincia</th>\n",
       "      <th>antiguedad</th>\n",
       "      <th>habitaciones</th>\n",
       "      <th>garages</th>\n",
       "      <th>...</th>\n",
       "      <th>idzona</th>\n",
       "      <th>lat</th>\n",
       "      <th>lng</th>\n",
       "      <th>fecha</th>\n",
       "      <th>gimnasio</th>\n",
       "      <th>usosmultiples</th>\n",
       "      <th>piscina</th>\n",
       "      <th>escuelascercanas</th>\n",
       "      <th>centroscomercialescercanos</th>\n",
       "      <th>precio</th>\n",
       "    </tr>\n",
       "  </thead>\n",
       "  <tbody>\n",
       "    <tr>\n",
       "      <th>0</th>\n",
       "      <td>254099</td>\n",
       "      <td>depto. tipo a-402</td>\n",
       "      <td>depto. interior de 80.15m2, consta de sala com...</td>\n",
       "      <td>Apartamento</td>\n",
       "      <td>Avenida Division del Norte 2005</td>\n",
       "      <td>Benito Juárez</td>\n",
       "      <td>Distrito Federal</td>\n",
       "      <td>NaN</td>\n",
       "      <td>2.0</td>\n",
       "      <td>1.0</td>\n",
       "      <td>...</td>\n",
       "      <td>23533.0</td>\n",
       "      <td>NaN</td>\n",
       "      <td>NaN</td>\n",
       "      <td>2015-08-23</td>\n",
       "      <td>False</td>\n",
       "      <td>False</td>\n",
       "      <td>False</td>\n",
       "      <td>False</td>\n",
       "      <td>False</td>\n",
       "      <td>2273000.0</td>\n",
       "    </tr>\n",
       "    <tr>\n",
       "      <th>1</th>\n",
       "      <td>53461</td>\n",
       "      <td>condominio horizontal en venta</td>\n",
       "      <td>&lt;p&gt;entre sonora y guerrero, atr&amp;aacute;s del h...</td>\n",
       "      <td>Casa en condominio</td>\n",
       "      <td>AV. MEXICO</td>\n",
       "      <td>La Magdalena Contreras</td>\n",
       "      <td>Distrito Federal</td>\n",
       "      <td>10.0</td>\n",
       "      <td>3.0</td>\n",
       "      <td>2.0</td>\n",
       "      <td>...</td>\n",
       "      <td>24514.0</td>\n",
       "      <td>19.310205</td>\n",
       "      <td>-99.227655</td>\n",
       "      <td>2013-06-28</td>\n",
       "      <td>False</td>\n",
       "      <td>False</td>\n",
       "      <td>False</td>\n",
       "      <td>True</td>\n",
       "      <td>True</td>\n",
       "      <td>3600000.0</td>\n",
       "    </tr>\n",
       "    <tr>\n",
       "      <th>2</th>\n",
       "      <td>247984</td>\n",
       "      <td>casa en venta urbi 3 recamaras tonala</td>\n",
       "      <td>descripcion \\nla mejor ubicacion residencial e...</td>\n",
       "      <td>Casa</td>\n",
       "      <td>Urbi Tonala</td>\n",
       "      <td>Tonalá</td>\n",
       "      <td>Jalisco</td>\n",
       "      <td>5.0</td>\n",
       "      <td>3.0</td>\n",
       "      <td>2.0</td>\n",
       "      <td>...</td>\n",
       "      <td>48551.0</td>\n",
       "      <td>NaN</td>\n",
       "      <td>NaN</td>\n",
       "      <td>2015-10-17</td>\n",
       "      <td>False</td>\n",
       "      <td>False</td>\n",
       "      <td>False</td>\n",
       "      <td>False</td>\n",
       "      <td>False</td>\n",
       "      <td>1200000.0</td>\n",
       "    </tr>\n",
       "    <tr>\n",
       "      <th>3</th>\n",
       "      <td>209067</td>\n",
       "      <td>casa sola en toluca zinacantepec con credito i...</td>\n",
       "      <td>casa en privada con caseta de vigilancia casas...</td>\n",
       "      <td>Casa</td>\n",
       "      <td>IGNACIO MANUEL ALTAMIRANO 128</td>\n",
       "      <td>Zinacantepec</td>\n",
       "      <td>Edo. de México</td>\n",
       "      <td>1.0</td>\n",
       "      <td>2.0</td>\n",
       "      <td>1.0</td>\n",
       "      <td>...</td>\n",
       "      <td>53666.0</td>\n",
       "      <td>19.301890</td>\n",
       "      <td>-99.688015</td>\n",
       "      <td>2012-03-09</td>\n",
       "      <td>False</td>\n",
       "      <td>False</td>\n",
       "      <td>False</td>\n",
       "      <td>True</td>\n",
       "      <td>True</td>\n",
       "      <td>650000.0</td>\n",
       "    </tr>\n",
       "    <tr>\n",
       "      <th>4</th>\n",
       "      <td>185997</td>\n",
       "      <td>paseos del sol</td>\n",
       "      <td>bonito departamento en excelentes condiciones ...</td>\n",
       "      <td>Apartamento</td>\n",
       "      <td>PASEOS DEL SOL</td>\n",
       "      <td>Zapopan</td>\n",
       "      <td>Jalisco</td>\n",
       "      <td>10.0</td>\n",
       "      <td>2.0</td>\n",
       "      <td>1.0</td>\n",
       "      <td>...</td>\n",
       "      <td>47835.0</td>\n",
       "      <td>NaN</td>\n",
       "      <td>NaN</td>\n",
       "      <td>2016-06-07</td>\n",
       "      <td>False</td>\n",
       "      <td>False</td>\n",
       "      <td>False</td>\n",
       "      <td>False</td>\n",
       "      <td>False</td>\n",
       "      <td>1150000.0</td>\n",
       "    </tr>\n",
       "  </tbody>\n",
       "</table>\n",
       "<p>5 rows × 23 columns</p>\n",
       "</div>"
      ],
      "text/plain": [
       "       id                                             titulo  \\\n",
       "0  254099                                  depto. tipo a-402   \n",
       "1   53461                     condominio horizontal en venta   \n",
       "2  247984              casa en venta urbi 3 recamaras tonala   \n",
       "3  209067  casa sola en toluca zinacantepec con credito i...   \n",
       "4  185997                                     paseos del sol   \n",
       "\n",
       "                                         descripcion     tipodepropiedad  \\\n",
       "0  depto. interior de 80.15m2, consta de sala com...         Apartamento   \n",
       "1  <p>entre sonora y guerrero, atr&aacute;s del h...  Casa en condominio   \n",
       "2  descripcion \\nla mejor ubicacion residencial e...                Casa   \n",
       "3  casa en privada con caseta de vigilancia casas...                Casa   \n",
       "4  bonito departamento en excelentes condiciones ...         Apartamento   \n",
       "\n",
       "                         direccion                  ciudad         provincia  \\\n",
       "0  Avenida Division del Norte 2005           Benito Juárez  Distrito Federal   \n",
       "1                       AV. MEXICO  La Magdalena Contreras  Distrito Federal   \n",
       "2                      Urbi Tonala                  Tonalá           Jalisco   \n",
       "3    IGNACIO MANUEL ALTAMIRANO 128            Zinacantepec    Edo. de México   \n",
       "4                  PASEOS DEL SOL                  Zapopan           Jalisco   \n",
       "\n",
       "   antiguedad  habitaciones  garages  ...   idzona        lat        lng  \\\n",
       "0         NaN           2.0      1.0  ...  23533.0        NaN        NaN   \n",
       "1        10.0           3.0      2.0  ...  24514.0  19.310205 -99.227655   \n",
       "2         5.0           3.0      2.0  ...  48551.0        NaN        NaN   \n",
       "3         1.0           2.0      1.0  ...  53666.0  19.301890 -99.688015   \n",
       "4        10.0           2.0      1.0  ...  47835.0        NaN        NaN   \n",
       "\n",
       "       fecha  gimnasio  usosmultiples piscina  escuelascercanas  \\\n",
       "0 2015-08-23     False          False   False             False   \n",
       "1 2013-06-28     False          False   False              True   \n",
       "2 2015-10-17     False          False   False             False   \n",
       "3 2012-03-09     False          False   False              True   \n",
       "4 2016-06-07     False          False   False             False   \n",
       "\n",
       "   centroscomercialescercanos     precio  \n",
       "0                       False  2273000.0  \n",
       "1                        True  3600000.0  \n",
       "2                       False  1200000.0  \n",
       "3                        True   650000.0  \n",
       "4                       False  1150000.0  \n",
       "\n",
       "[5 rows x 23 columns]"
      ]
     },
     "execution_count": 4,
     "metadata": {},
     "output_type": "execute_result"
    }
   ],
   "source": [
    "df.head()"
   ]
  },
  {
   "cell_type": "code",
   "execution_count": 5,
   "metadata": {
    "scrolled": true
   },
   "outputs": [
    {
     "data": {
      "text/plain": [
       "id                                 0\n",
       "titulo                          5387\n",
       "descripcion                     1619\n",
       "tipodepropiedad                   46\n",
       "direccion                      53072\n",
       "ciudad                           372\n",
       "provincia                        155\n",
       "antiguedad                     43555\n",
       "habitaciones                   22471\n",
       "garages                        37765\n",
       "banos                          26221\n",
       "metroscubiertos                17400\n",
       "metrostotales                  51467\n",
       "idzona                         28621\n",
       "lat                           123488\n",
       "lng                           123488\n",
       "fecha                              0\n",
       "gimnasio                           0\n",
       "usosmultiples                      0\n",
       "piscina                            0\n",
       "escuelascercanas                   0\n",
       "centroscomercialescercanos         0\n",
       "precio                             0\n",
       "dtype: int64"
      ]
     },
     "execution_count": 5,
     "metadata": {},
     "output_type": "execute_result"
    }
   ],
   "source": [
    "df.isnull().sum()"
   ]
  },
  {
   "cell_type": "code",
   "execution_count": 37,
   "metadata": {},
   "outputs": [
    {
     "data": {
      "text/plain": [
       "Text(0, 0.5, 'Cantidad publicaciones')"
      ]
     },
     "execution_count": 37,
     "metadata": {},
     "output_type": "execute_result"
    },
    {
     "data": {
      "image/png": "[encoded data removed]",
      "text/plain": [
       "<Figure size 432x288 with 1 Axes>"
      ]
     },
     "metadata": {
      "needs_background": "light"
     },
     "output_type": "display_data"
    }
   ],
   "source": [
    "df_cant_hab_apartamentos = df[df.tipodepropiedad == \"Apartamento\"].groupby(df.habitaciones).size()\n",
    "grafico_habitaciones_apartamento = sns.barplot(x=df_cant_hab_apartamentos.index,y=df_cant_hab_apartamentos.values,orient='v',palette=\"Set1\",order = df_cant_hab_apartamentos.index)\n",
    "grafico_habitaciones_apartamento.set_title(\"Cantidad de apartamentos publicados por habitaciones\",fontsize=20)\n",
    "grafico_habitaciones_apartamento.set_xlabel(\"Cantidad de habitaciones\",fontsize=12)\n",
    "grafico_habitaciones_apartamento.set_ylabel(\"Cantidad publicaciones\",fontsize=12)"
   ]
  },
  {
   "cell_type": "code",
   "execution_count": 38,
   "metadata": {},
   "outputs": [
    {
     "data": {
      "text/plain": [
       "Text(0, 0.5, 'Cantidad publicaciones')"
      ]
     },
     "execution_count": 38,
     "metadata": {},
     "output_type": "execute_result"
    },
    {
     "data": {
      "image/png": "[encoded data removed]",
      "text/plain": [
       "<Figure size 432x288 with 1 Axes>"
      ]
     },
     "metadata": {
      "needs_background": "light"
     },
     "output_type": "display_data"
    }
   ],
   "source": [
    "df_cant_habitaciones = df.groupby(df.habitaciones).size()\n",
    "grafico_habitaciones_publicacion = sns.barplot(x=df_cant_habitaciones.index,y=df_cant_habitaciones.values,orient='v',palette=\"Set1\",order = df_cant_habitaciones.index)\n",
    "grafico_habitaciones_publicacion.set_title(\"Cantidad de publicaciones por habitaciones\",fontsize=20)\n",
    "grafico_habitaciones_publicacion.set_xlabel(\"Cantidad de habitaciones\",fontsize=12)\n",
    "grafico_habitaciones_publicacion.set_ylabel(\"Cantidad publicaciones\",fontsize=12)"
   ]
  },
  {
   "cell_type": "code",
   "execution_count": 41,
   "metadata": {},
   "outputs": [
    {
     "data": {
      "text/plain": [
       "Text(0, 0.5, 'Cantidad publicaciones')"
      ]
     },
     "execution_count": 41,
     "metadata": {},
     "output_type": "execute_result"
    },
    {
     "data": {
      "image/png": "[encoded data removed]",
      "text/plain": [
       "<Figure size 432x288 with 1 Axes>"
      ]
     },
     "metadata": {
      "needs_background": "light"
     },
     "output_type": "display_data"
    }
   ],
   "source": [
    "df_cant_hab_casas = df[df.tipodepropiedad == \"Casa\"].groupby(df.habitaciones).size()\n",
    "grafico_habitaciones_casas = sns.barplot(x=df_cant_hab_casas.index,y=df_cant_hab_casas.values,orient='v',palette=\"Set1\",order = df_cant_hab_casas.index)\n",
    "grafico_habitaciones_casas.set_title(\"Cantidad de casas publicadas por habitaciones\",fontsize=20)\n",
    "grafico_habitaciones_casas.set_xlabel(\"Cantidad de habitaciones\",fontsize=12)\n",
    "grafico_habitaciones_casas.set_ylabel(\"Cantidad publicaciones\",fontsize=12)"
   ]
  },
  {
   "cell_type": "code",
   "execution_count": 4,
   "metadata": {},
   "outputs": [],
   "source": [
    "df_usd = pd.read_csv('dolar.csv')"
   ]
  },
  {
   "cell_type": "code",
   "execution_count": 5,
   "metadata": {},
   "outputs": [
    {
     "data": {
      "text/html": [
       "<div>\n",
       "<style scoped>\n",
       "    .dataframe tbody tr th:only-of-type {\n",
       "        vertical-align: middle;\n",
       "    }\n",
       "\n",
       "    .dataframe tbody tr th {\n",
       "        vertical-align: top;\n",
       "    }\n",
       "\n",
       "    .dataframe thead th {\n",
       "        text-align: right;\n",
       "    }\n",
       "</style>\n",
       "<table border=\"1\" class=\"dataframe\">\n",
       "  <thead>\n",
       "    <tr style=\"text-align: right;\">\n",
       "      <th></th>\n",
       "      <th>Fecha</th>\n",
       "      <th>Valor USD</th>\n",
       "    </tr>\n",
       "  </thead>\n",
       "  <tbody>\n",
       "    <tr>\n",
       "      <th>0</th>\n",
       "      <td>02/01/2012</td>\n",
       "      <td>13.9342</td>\n",
       "    </tr>\n",
       "    <tr>\n",
       "      <th>1</th>\n",
       "      <td>03/01/2012</td>\n",
       "      <td>13.6882</td>\n",
       "    </tr>\n",
       "    <tr>\n",
       "      <th>2</th>\n",
       "      <td>04/01/2012</td>\n",
       "      <td>13.7144</td>\n",
       "    </tr>\n",
       "    <tr>\n",
       "      <th>3</th>\n",
       "      <td>05/01/2012</td>\n",
       "      <td>13.7409</td>\n",
       "    </tr>\n",
       "    <tr>\n",
       "      <th>4</th>\n",
       "      <td>06/01/2012</td>\n",
       "      <td>13.7228</td>\n",
       "    </tr>\n",
       "  </tbody>\n",
       "</table>\n",
       "</div>"
      ],
      "text/plain": [
       "        Fecha  Valor USD\n",
       "0  02/01/2012    13.9342\n",
       "1  03/01/2012    13.6882\n",
       "2  04/01/2012    13.7144\n",
       "3  05/01/2012    13.7409\n",
       "4  06/01/2012    13.7228"
      ]
     },
     "execution_count": 5,
     "metadata": {},
     "output_type": "execute_result"
    }
   ],
   "source": [
    "df_usd.head()"
   ]
  },
  {
   "cell_type": "code",
   "execution_count": 15,
   "metadata": {},
   "outputs": [],
   "source": [
    "df_usd['fecha'] = pd.to_datetime(df_usd['Fecha'], dayfirst=True)"
   ]
  },
  {
   "cell_type": "code",
   "execution_count": 16,
   "metadata": {},
   "outputs": [
    {
     "data": {
      "text/html": [
       "<div>\n",
       "<style scoped>\n",
       "    .dataframe tbody tr th:only-of-type {\n",
       "        vertical-align: middle;\n",
       "    }\n",
       "\n",
       "    .dataframe tbody tr th {\n",
       "        vertical-align: top;\n",
       "    }\n",
       "\n",
       "    .dataframe thead th {\n",
       "        text-align: right;\n",
       "    }\n",
       "</style>\n",
       "<table border=\"1\" class=\"dataframe\">\n",
       "  <thead>\n",
       "    <tr style=\"text-align: right;\">\n",
       "      <th></th>\n",
       "      <th>Fecha</th>\n",
       "      <th>Valor USD</th>\n",
       "      <th>fecha</th>\n",
       "    </tr>\n",
       "  </thead>\n",
       "  <tbody>\n",
       "    <tr>\n",
       "      <th>0</th>\n",
       "      <td>2012-01-02</td>\n",
       "      <td>13.9342</td>\n",
       "      <td>2012-01-02</td>\n",
       "    </tr>\n",
       "    <tr>\n",
       "      <th>1</th>\n",
       "      <td>2012-01-03</td>\n",
       "      <td>13.6882</td>\n",
       "      <td>2012-01-03</td>\n",
       "    </tr>\n",
       "    <tr>\n",
       "      <th>2</th>\n",
       "      <td>2012-01-04</td>\n",
       "      <td>13.7144</td>\n",
       "      <td>2012-01-04</td>\n",
       "    </tr>\n",
       "    <tr>\n",
       "      <th>3</th>\n",
       "      <td>2012-01-05</td>\n",
       "      <td>13.7409</td>\n",
       "      <td>2012-01-05</td>\n",
       "    </tr>\n",
       "    <tr>\n",
       "      <th>4</th>\n",
       "      <td>2012-01-06</td>\n",
       "      <td>13.7228</td>\n",
       "      <td>2012-01-06</td>\n",
       "    </tr>\n",
       "  </tbody>\n",
       "</table>\n",
       "</div>"
      ],
      "text/plain": [
       "       Fecha  Valor USD      fecha\n",
       "0 2012-01-02    13.9342 2012-01-02\n",
       "1 2012-01-03    13.6882 2012-01-03\n",
       "2 2012-01-04    13.7144 2012-01-04\n",
       "3 2012-01-05    13.7409 2012-01-05\n",
       "4 2012-01-06    13.7228 2012-01-06"
      ]
     },
     "execution_count": 16,
     "metadata": {},
     "output_type": "execute_result"
    }
   ],
   "source": [
    "df_usd.head()"
   ]
  },
  {
   "cell_type": "code",
   "execution_count": 30,
   "metadata": {},
   "outputs": [
    {
     "data": {
      "text/plain": [
       "240000"
      ]
     },
     "execution_count": 30,
     "metadata": {},
     "output_type": "execute_result"
    }
   ],
   "source": [
    "df_merged = pd.merge(df, df_usd, on='fecha', how='inner')\n",
    "df.id.count()"
   ]
  },
  {
   "cell_type": "code",
   "execution_count": 31,
   "metadata": {},
   "outputs": [],
   "source": [
    "def precio_usd(row):\n",
    "    return row['precio'] / row['Valor USD']\n",
    "df_merged['precioUSD'] = df_merged.apply (lambda row: precio_usd(row), axis=1)"
   ]
  },
  {
   "cell_type": "code",
   "execution_count": 32,
   "metadata": {},
   "outputs": [
    {
     "data": {
      "text/html": [
       "<div>\n",
       "<style scoped>\n",
       "    .dataframe tbody tr th:only-of-type {\n",
       "        vertical-align: middle;\n",
       "    }\n",
       "\n",
       "    .dataframe tbody tr th {\n",
       "        vertical-align: top;\n",
       "    }\n",
       "\n",
       "    .dataframe thead th {\n",
       "        text-align: right;\n",
       "    }\n",
       "</style>\n",
       "<table border=\"1\" class=\"dataframe\">\n",
       "  <thead>\n",
       "    <tr style=\"text-align: right;\">\n",
       "      <th></th>\n",
       "      <th>id</th>\n",
       "      <th>titulo</th>\n",
       "      <th>descripcion</th>\n",
       "      <th>tipodepropiedad</th>\n",
       "      <th>direccion</th>\n",
       "      <th>ciudad</th>\n",
       "      <th>provincia</th>\n",
       "      <th>antiguedad</th>\n",
       "      <th>habitaciones</th>\n",
       "      <th>garages</th>\n",
       "      <th>...</th>\n",
       "      <th>fecha</th>\n",
       "      <th>gimnasio</th>\n",
       "      <th>usosmultiples</th>\n",
       "      <th>piscina</th>\n",
       "      <th>escuelascercanas</th>\n",
       "      <th>centroscomercialescercanos</th>\n",
       "      <th>precio</th>\n",
       "      <th>Fecha</th>\n",
       "      <th>Valor USD</th>\n",
       "      <th>precioUSD</th>\n",
       "    </tr>\n",
       "  </thead>\n",
       "  <tbody>\n",
       "    <tr>\n",
       "      <th>0</th>\n",
       "      <td>53461</td>\n",
       "      <td>condominio horizontal en venta</td>\n",
       "      <td>&lt;p&gt;entre sonora y guerrero, atr&amp;aacute;s del h...</td>\n",
       "      <td>Casa en condominio</td>\n",
       "      <td>AV. MEXICO</td>\n",
       "      <td>La Magdalena Contreras</td>\n",
       "      <td>Distrito Federal</td>\n",
       "      <td>10.0</td>\n",
       "      <td>3.0</td>\n",
       "      <td>2.0</td>\n",
       "      <td>...</td>\n",
       "      <td>2013-06-28</td>\n",
       "      <td>False</td>\n",
       "      <td>False</td>\n",
       "      <td>False</td>\n",
       "      <td>True</td>\n",
       "      <td>True</td>\n",
       "      <td>3600000.0</td>\n",
       "      <td>2013-06-28</td>\n",
       "      <td>13.0279</td>\n",
       "      <td>276330.030166</td>\n",
       "    </tr>\n",
       "    <tr>\n",
       "      <th>1</th>\n",
       "      <td>137214</td>\n",
       "      <td>casa en lomas suaves excelente zona, remate hi...</td>\n",
       "      <td>&lt;p&gt;caracter&amp;iacute;sticas de la operaci&amp;oacute...</td>\n",
       "      <td>Casa</td>\n",
       "      <td>Circuito Educadores, Ciudad Satelite Naucalpan...</td>\n",
       "      <td>Naucalpan de Juárez</td>\n",
       "      <td>Edo. de México</td>\n",
       "      <td>20.0</td>\n",
       "      <td>3.0</td>\n",
       "      <td>2.0</td>\n",
       "      <td>...</td>\n",
       "      <td>2013-06-28</td>\n",
       "      <td>False</td>\n",
       "      <td>False</td>\n",
       "      <td>False</td>\n",
       "      <td>False</td>\n",
       "      <td>False</td>\n",
       "      <td>3500000.0</td>\n",
       "      <td>2013-06-28</td>\n",
       "      <td>13.0279</td>\n",
       "      <td>268654.195995</td>\n",
       "    </tr>\n",
       "    <tr>\n",
       "      <th>2</th>\n",
       "      <td>144952</td>\n",
       "      <td>casa en venta en martel del valle</td>\n",
       "      <td>&lt;p&gt;sala&amp;nbsp;&lt;/p&gt;\\r\\n&lt;p&gt;comedor&amp;nbsp;&lt;/p&gt;\\r\\n&lt;...</td>\n",
       "      <td>Casa</td>\n",
       "      <td>valle orquideas 95</td>\n",
       "      <td>Zapopan</td>\n",
       "      <td>Jalisco</td>\n",
       "      <td>6.0</td>\n",
       "      <td>3.0</td>\n",
       "      <td>1.0</td>\n",
       "      <td>...</td>\n",
       "      <td>2013-06-28</td>\n",
       "      <td>False</td>\n",
       "      <td>False</td>\n",
       "      <td>False</td>\n",
       "      <td>True</td>\n",
       "      <td>False</td>\n",
       "      <td>623000.0</td>\n",
       "      <td>2013-06-28</td>\n",
       "      <td>13.0279</td>\n",
       "      <td>47820.446887</td>\n",
       "    </tr>\n",
       "    <tr>\n",
       "      <th>3</th>\n",
       "      <td>44775</td>\n",
       "      <td>casa unidad barrientos tlalnepantla de baz</td>\n",
       "      <td>&lt;p&gt;es un terreno de 216 m2 y 250 m2 de constru...</td>\n",
       "      <td>Casa</td>\n",
       "      <td>AV CIRCUNVALACIÓN 90</td>\n",
       "      <td>Tlalnepantla de Baz</td>\n",
       "      <td>Edo. de México</td>\n",
       "      <td>10.0</td>\n",
       "      <td>5.0</td>\n",
       "      <td>2.0</td>\n",
       "      <td>...</td>\n",
       "      <td>2013-06-28</td>\n",
       "      <td>False</td>\n",
       "      <td>False</td>\n",
       "      <td>False</td>\n",
       "      <td>True</td>\n",
       "      <td>False</td>\n",
       "      <td>1600000.0</td>\n",
       "      <td>2013-06-28</td>\n",
       "      <td>13.0279</td>\n",
       "      <td>122813.346740</td>\n",
       "    </tr>\n",
       "    <tr>\n",
       "      <th>4</th>\n",
       "      <td>249230</td>\n",
       "      <td>hermosa residencia en privada arboledas queret...</td>\n",
       "      <td>&lt;p&gt;la casa tipo minimalista se encuentra en un...</td>\n",
       "      <td>Casa en condominio</td>\n",
       "      <td>Anillo Vial Fray Junípero Serra 1550</td>\n",
       "      <td>Querétaro</td>\n",
       "      <td>Querétaro</td>\n",
       "      <td>4.0</td>\n",
       "      <td>3.0</td>\n",
       "      <td>2.0</td>\n",
       "      <td>...</td>\n",
       "      <td>2013-06-28</td>\n",
       "      <td>False</td>\n",
       "      <td>False</td>\n",
       "      <td>False</td>\n",
       "      <td>True</td>\n",
       "      <td>True</td>\n",
       "      <td>2950000.0</td>\n",
       "      <td>2013-06-28</td>\n",
       "      <td>13.0279</td>\n",
       "      <td>226437.108053</td>\n",
       "    </tr>\n",
       "  </tbody>\n",
       "</table>\n",
       "<p>5 rows × 26 columns</p>\n",
       "</div>"
      ],
      "text/plain": [
       "       id                                             titulo  \\\n",
       "0   53461                     condominio horizontal en venta   \n",
       "1  137214  casa en lomas suaves excelente zona, remate hi...   \n",
       "2  144952                  casa en venta en martel del valle   \n",
       "3   44775         casa unidad barrientos tlalnepantla de baz   \n",
       "4  249230  hermosa residencia en privada arboledas queret...   \n",
       "\n",
       "                                         descripcion     tipodepropiedad  \\\n",
       "0  <p>entre sonora y guerrero, atr&aacute;s del h...  Casa en condominio   \n",
       "1  <p>caracter&iacute;sticas de la operaci&oacute...                Casa   \n",
       "2  <p>sala&nbsp;</p>\\r\\n<p>comedor&nbsp;</p>\\r\\n<...                Casa   \n",
       "3  <p>es un terreno de 216 m2 y 250 m2 de constru...                Casa   \n",
       "4  <p>la casa tipo minimalista se encuentra en un...  Casa en condominio   \n",
       "\n",
       "                                           direccion                  ciudad  \\\n",
       "0                                         AV. MEXICO  La Magdalena Contreras   \n",
       "1  Circuito Educadores, Ciudad Satelite Naucalpan...     Naucalpan de Juárez   \n",
       "2                                 valle orquideas 95                 Zapopan   \n",
       "3                               AV CIRCUNVALACIÓN 90     Tlalnepantla de Baz   \n",
       "4               Anillo Vial Fray Junípero Serra 1550               Querétaro   \n",
       "\n",
       "          provincia  antiguedad  habitaciones  garages  ...      fecha  \\\n",
       "0  Distrito Federal        10.0           3.0      2.0  ... 2013-06-28   \n",
       "1    Edo. de México        20.0           3.0      2.0  ... 2013-06-28   \n",
       "2           Jalisco         6.0           3.0      1.0  ... 2013-06-28   \n",
       "3    Edo. de México        10.0           5.0      2.0  ... 2013-06-28   \n",
       "4         Querétaro         4.0           3.0      2.0  ... 2013-06-28   \n",
       "\n",
       "   gimnasio  usosmultiples  piscina  escuelascercanas  \\\n",
       "0     False          False    False              True   \n",
       "1     False          False    False             False   \n",
       "2     False          False    False              True   \n",
       "3     False          False    False              True   \n",
       "4     False          False    False              True   \n",
       "\n",
       "   centroscomercialescercanos     precio      Fecha  Valor USD      precioUSD  \n",
       "0                        True  3600000.0 2013-06-28    13.0279  276330.030166  \n",
       "1                       False  3500000.0 2013-06-28    13.0279  268654.195995  \n",
       "2                       False   623000.0 2013-06-28    13.0279   47820.446887  \n",
       "3                       False  1600000.0 2013-06-28    13.0279  122813.346740  \n",
       "4                        True  2950000.0 2013-06-28    13.0279  226437.108053  \n",
       "\n",
       "[5 rows x 26 columns]"
      ]
     },
     "execution_count": 32,
     "metadata": {},
     "output_type": "execute_result"
    }
   ],
   "source": [
    "df_merged.head()"
   ]
  },
  {
   "cell_type": "code",
   "execution_count": 52,
   "metadata": {},
   "outputs": [],
   "source": [
    "def precio_metro_cubierto(row):\n",
    "    return row['precio'] / row['metroscubiertos']\n",
    "df['preciometrocubierto'] = df.apply (lambda row: precio_metro_cubierto(row), axis=1)"
   ]
  },
  {
   "cell_type": "code",
   "execution_count": 54,
   "metadata": {},
   "outputs": [
    {
     "data": {
      "text/plain": [
       "222600"
      ]
     },
     "execution_count": 54,
     "metadata": {},
     "output_type": "execute_result"
    }
   ],
   "source": [
    "df.preciometrocubierto.count()"
   ]
  },
  {
   "cell_type": "code",
   "execution_count": 61,
   "metadata": {},
   "outputs": [],
   "source": [
    "df['year'] = df.apply(lambda row: row['fecha'].year, axis = 1)\n",
    "df['month'] = df.apply(lambda row: row['fecha'].month, axis = 1)"
   ]
  },
  {
   "cell_type": "code",
   "execution_count": 62,
   "metadata": {},
   "outputs": [],
   "source": [
    "df_by_year = df.groupby('year')"
   ]
  },
  {
   "cell_type": "code",
   "execution_count": 63,
   "metadata": {},
   "outputs": [],
   "source": [
    "df_2012 = df_by_year.get_group(2012)"
   ]
  },
  {
   "cell_type": "code",
   "execution_count": 66,
   "metadata": {},
   "outputs": [
    {
     "name": "stdout",
     "output_type": "stream",
     "text": [
      "month\n",
      "1     10981.093362\n",
      "2     10980.625430\n",
      "3     11476.266251\n",
      "4     11577.939988\n",
      "5     11315.216316\n",
      "6     11197.458908\n",
      "7     11177.901114\n",
      "8     11681.735631\n",
      "9     11736.015614\n",
      "10    11890.889705\n",
      "11    12408.346233\n",
      "12    11386.288177\n",
      "Name: preciometrocubierto, dtype: float64\n"
     ]
    }
   ],
   "source": [
    "mean_2012 = df_2012.groupby('month').preciometrocubierto.mean()\n",
    "print(mean_2012)"
   ]
  },
  {
   "cell_type": "code",
   "execution_count": 68,
   "metadata": {},
   "outputs": [
    {
     "data": {
      "text/plain": [
       "<Figure size 432x288 with 0 Axes>"
      ]
     },
     "metadata": {},
     "output_type": "display_data"
    },
    {
     "data": {
      "image/png": "[encoded data removed]",
      "text/plain": [
       "<Figure size 1080x720 with 1 Axes>"
      ]
     },
     "metadata": {
      "needs_background": "light"
     },
     "output_type": "display_data"
    }
   ],
   "source": [
    "plt.figure()\n",
    "plt.subplots(figsize=(15,10))\n",
    "plt.plot(mean_2012.index, mean_2012.values)\n",
    "plt.title('Variación precio de metro cubierto 2012', fontsize=20)\n",
    "plt.xlabel('Mes', fontsize=12)\n",
    "plt.ylabel('Pesos mexicanos', fontsize=12)\n",
    "ax = plt.gca()\n",
    "ax.xaxis.set_major_locator(mdates.MonthLocator(interval=4))\n",
    "ax.xaxis.set_major_formatter(mdates.DateFormatter('%Y-%m'))\n",
    "plt.gcf().autofmt_xdate() # Rotation\n",
    "plt.savefig('evolucion_cant_public.png', bbox_inches = 'tight')\n",
    "plt.show()"
   ]
  }
 ],
 "metadata": {
  "kernelspec": {
   "display_name": "Python 3",
   "language": "python",
   "name": "python3"
  },
  "language_info": {
   "codemirror_mode": {
    "name": "ipython",
    "version": 3
   },
   "file_extension": ".py",
   "mimetype": "text/x-python",
   "name": "python",
   "nbconvert_exporter": "python",
   "pygments_lexer": "ipython3",
   "version": "3.5.2"
  }
 },
 "nbformat": 4,
 "nbformat_minor": 2
}
