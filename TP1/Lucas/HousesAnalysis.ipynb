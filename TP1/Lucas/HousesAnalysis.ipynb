{
 "cells": [
  {
   "cell_type": "code",
   "execution_count": 173,
   "metadata": {},
   "outputs": [],
   "source": [
    "import pandas as pd\n",
    "pd.set_option('display.float_format', '{:.2f}'.format)\n",
    "train_df = pd.read_csv(\"train.csv\", parse_dates=['fecha'])"
   ]
  },
  {
   "cell_type": "markdown",
   "metadata": {},
   "source": [
    "# train.csv"
   ]
  },
  {
   "cell_type": "markdown",
   "metadata": {},
   "source": [
    "* **id** - 254099, **Entero**\n",
    "* **titulo** - \"condominio horizontal...\", **string**\n",
    "* **descripcion** - \"lo que sea\", **String**\n",
    "* **tipoDePropiedad** - Apartamento-Casa en condominio, **debería ser tipo en enum**\n",
    "* **direccion** - \"av. mexico\", **String**\n",
    "* **ciudad** - \"Benito Juarez\", **String**\n",
    "* **provincia** - \"Distrito Federal\", **String**\n",
    "* **antiguedad** - 10.0, Años **Decimal**\n",
    "* **habitaciones** - 2.0, **Decimal**\n",
    "* **garages** -  1.0, **Decimal**\n",
    "* **idZona** - 23533.0, **Decimal**\n",
    "* **lat** - 19.310205, **muchos numeros después de la coma**\n",
    "* **ing** - -99.227655, **esto es la long**\n",
    "* **fecha** - 2015-08-23 00:00:00, es un **datetime**\n",
    "* **gimnasio** - 1.0 o 0.0, **verdadero o falso**\n",
    "* **usosMultiples** - 1.0 o 0.0, **verdadero o falso**\n",
    "* **piscina** - 1.0 o 0.0, **verdadero o falso**\n",
    "* **escuelasCercanas** - 1.0 o 0.0, **verdadero o falso**\n",
    "* **precio** - 2273000.0, en pesos Mexicanos"
   ]
  },
  {
   "cell_type": "code",
   "execution_count": 174,
   "metadata": {},
   "outputs": [
    {
     "data": {
      "text/plain": [
       "id                                     int64\n",
       "titulo                                object\n",
       "descripcion                           object\n",
       "tipodepropiedad                       object\n",
       "direccion                             object\n",
       "ciudad                                object\n",
       "provincia                             object\n",
       "antiguedad                           float64\n",
       "habitaciones                         float64\n",
       "garages                              float64\n",
       "banos                                float64\n",
       "metroscubiertos                      float64\n",
       "metrostotales                        float64\n",
       "idzona                               float64\n",
       "lat                                  float64\n",
       "lng                                  float64\n",
       "fecha                         datetime64[ns]\n",
       "gimnasio                             float64\n",
       "usosmultiples                        float64\n",
       "piscina                              float64\n",
       "escuelascercanas                     float64\n",
       "centroscomercialescercanos           float64\n",
       "precio                               float64\n",
       "dtype: object"
      ]
     },
     "execution_count": 174,
     "metadata": {},
     "output_type": "execute_result"
    }
   ],
   "source": [
    "train_df.dtypes"
   ]
  },
  {
   "cell_type": "markdown",
   "metadata": {},
   "source": [
    "# ---------------------------------------------"
   ]
  },
  {
   "cell_type": "markdown",
   "metadata": {},
   "source": [
    "Voy a filtrar todo lo que no sea una **Casa** y luego quedarme solamente con las columnas **piscina** y **precio**"
   ]
  },
  {
   "cell_type": "code",
   "execution_count": 175,
   "metadata": {},
   "outputs": [],
   "source": [
    "piscinasEnCasasDf = train_df.loc[train_df[\"tipodepropiedad\"] == \"Casa\", [\"piscina\", \"precio\"]].groupby([train_df[\"piscina\"]]).agg({\"piscina\" : \"piscina\", \"piscina\": [\"count\"], \"precio\": \"mean\"})"
   ]
  },
  {
   "cell_type": "code",
   "execution_count": 176,
   "metadata": {},
   "outputs": [],
   "source": [
    "piscinasEnCasasDf.columns = [\"cantidad\", \"precioPromedio\"]"
   ]
  },
  {
   "cell_type": "code",
   "execution_count": 177,
   "metadata": {},
   "outputs": [],
   "source": [
    "piscinasEnCasasDf = piscinasEnCasasDf.reset_index()"
   ]
  },
  {
   "cell_type": "code",
   "execution_count": 178,
   "metadata": {},
   "outputs": [],
   "source": [
    "piscinasEnCasasDf[\"piscina\"] = piscinasEnCasasDf[\"piscina\"].apply(lambda x : \"Tiene piscina\" if x == 1 else \"No tiene piscina\")"
   ]
  },
  {
   "cell_type": "markdown",
   "metadata": {},
   "source": [
    "Obtengo el siguiente DF"
   ]
  },
  {
   "cell_type": "code",
   "execution_count": 179,
   "metadata": {},
   "outputs": [
    {
     "data": {
      "text/html": [
       "<div>\n",
       "<style scoped>\n",
       "    .dataframe tbody tr th:only-of-type {\n",
       "        vertical-align: middle;\n",
       "    }\n",
       "\n",
       "    .dataframe tbody tr th {\n",
       "        vertical-align: top;\n",
       "    }\n",
       "\n",
       "    .dataframe thead th {\n",
       "        text-align: right;\n",
       "    }\n",
       "</style>\n",
       "<table border=\"1\" class=\"dataframe\">\n",
       "  <thead>\n",
       "    <tr style=\"text-align: right;\">\n",
       "      <th></th>\n",
       "      <th>piscina</th>\n",
       "      <th>cantidad</th>\n",
       "      <th>precioPromedio</th>\n",
       "    </tr>\n",
       "  </thead>\n",
       "  <tbody>\n",
       "    <tr>\n",
       "      <th>0</th>\n",
       "      <td>No tiene piscina</td>\n",
       "      <td>132608</td>\n",
       "      <td>2363569.16</td>\n",
       "    </tr>\n",
       "    <tr>\n",
       "      <th>1</th>\n",
       "      <td>Tiene piscina</td>\n",
       "      <td>9109</td>\n",
       "      <td>2901694.73</td>\n",
       "    </tr>\n",
       "  </tbody>\n",
       "</table>\n",
       "</div>"
      ],
      "text/plain": [
       "            piscina  cantidad  precioPromedio\n",
       "0  No tiene piscina    132608      2363569.16\n",
       "1     Tiene piscina      9109      2901694.73"
      ]
     },
     "execution_count": 179,
     "metadata": {},
     "output_type": "execute_result"
    }
   ],
   "source": [
    "piscinasEnCasasDf.head()"
   ]
  },
  {
   "cell_type": "code",
   "execution_count": 180,
   "metadata": {},
   "outputs": [
    {
     "data": {
      "text/plain": [
       "<matplotlib.axes._subplots.AxesSubplot at 0x7f4564c00c50>"
      ]
     },
     "execution_count": 180,
     "metadata": {},
     "output_type": "execute_result"
    },
    {
     "data": {
      "image/png": "[encoded data removed]",
      "text/plain": [
       "<Figure size 432x288 with 1 Axes>"
      ]
     },
     "metadata": {
      "needs_background": "light"
     },
     "output_type": "display_data"
    }
   ],
   "source": [
    "piscinasEnCasasDf.plot.bar(x=\"piscina\", y=\"cantidad\", rot=0, title = \"Cantidad casas con/sin piscina\",colormap='viridis')"
   ]
  },
  {
   "cell_type": "code",
   "execution_count": 181,
   "metadata": {},
   "outputs": [
    {
     "data": {
      "text/plain": [
       "<matplotlib.axes._subplots.AxesSubplot at 0x7f4566eeaa58>"
      ]
     },
     "execution_count": 181,
     "metadata": {},
     "output_type": "execute_result"
    },
    {
     "data": {
      "image/png": "[encoded data removed]",
      "text/plain": [
       "<Figure size 432x288 with 1 Axes>"
      ]
     },
     "metadata": {
      "needs_background": "light"
     },
     "output_type": "display_data"
    }
   ],
   "source": [
    "piscinasEnCasasDf.plot.bar(x=\"piscina\", y=\"precioPromedio\", rot=0, title = \"Precio promedio en casas con/sin piscina\", colormap=\"viridis\")"
   ]
  },
  {
   "cell_type": "markdown",
   "metadata": {},
   "source": [
    "Pero esto de arriba no me dice nada porque hay **muy pocas casas con piscina**"
   ]
  },
  {
   "cell_type": "markdown",
   "metadata": {},
   "source": [
    "Voy a ver si encuentro algun atributo donde haya cantidades más parejas, y ver si hay alguna diferencia notable"
   ]
  },
  {
   "cell_type": "code",
   "execution_count": null,
   "metadata": {},
   "outputs": [],
   "source": []
  }
 ],
 "metadata": {
  "kernelspec": {
   "display_name": "Python 3",
   "language": "python",
   "name": "python3"
  },
  "language_info": {
   "codemirror_mode": {
    "name": "ipython",
    "version": 3
   },
   "file_extension": ".py",
   "mimetype": "text/x-python",
   "name": "python",
   "nbconvert_exporter": "python",
   "pygments_lexer": "ipython3",
   "version": "3.7.1"
  }
 },
 "nbformat": 4,
 "nbformat_minor": 2
}
